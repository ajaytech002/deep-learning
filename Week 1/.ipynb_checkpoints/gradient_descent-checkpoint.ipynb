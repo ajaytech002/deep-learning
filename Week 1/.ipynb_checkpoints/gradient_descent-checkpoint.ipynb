{
 "cells": [
  {
   "cell_type": "markdown",
   "metadata": {},
   "source": [
    "Notebook is copyright &copy; of <a href=\"https://ajaytech.co\">Ajay Tech</a>."
   ]
  },
  {
   "cell_type": "markdown",
   "metadata": {},
   "source": [
    "# Gradient Descent"
   ]
  },
  {
   "cell_type": "markdown",
   "metadata": {},
   "source": [
    "## Contents"
   ]
  },
  {
   "cell_type": "markdown",
   "metadata": {},
   "source": [
    "- #### What is Gradient Descent\n",
    "- #### Gradient Descent for Linear Regression\n",
    "- #### Math\n",
    "  - ##### Derivaties\n",
    "  - ##### Partial Derivatives\n",
    "- #### Gradient Descent for Linear Regression\n",
    "- #### Stochastic Gradient Descent\n",
    "- #### Mini-batch Gradient Descent\n",
    "\n"
   ]
  },
  {
   "cell_type": "markdown",
   "metadata": {},
   "source": [
    "### What is Gradient Descent"
   ]
  },
  {
   "cell_type": "markdown",
   "metadata": {},
   "source": [
    "In simple terms, Gradient Descent is an algorithm to **compute the minimum of a function**. OK - So, what is the big deal ? Well, most of the time in most machine learning algorithms, there is always a cost function that needs to be minimized. The best Machine Learning Algorithm is usually the one with the most inclusive and simple cost function. Once a cost function is defined, it is just a matter of solving for a minimum to arrive at the solution. That is why _Gradient Descent_ is extremely useful in the context of Machine learning. Let's see an example."
   ]
  },
  {
   "cell_type": "markdown",
   "metadata": {},
   "source": [
    "### Gradient Descent for Linear Regression"
   ]
  },
  {
   "cell_type": "markdown",
   "metadata": {},
   "source": [
    "Let's start with the simplestML problem - Linear Regression. In the <a href=\"https://ajaytech.co/machine-learning-in-python/\">Machine Learning in Python Tutorial</a>, we have covered <a href=\"https://ajaytech.co/python-regression/\">Regression in Python</a> in great detail. "
   ]
  },
  {
   "cell_type": "markdown",
   "metadata": {},
   "source": [
    "Since the problem is simple enough to be solved mathematically, we have used the **OLS** (Ordinary Least Squares) technique to fit a straight line to the Linear Regression problem. You can view the <a href=\"https://ajaytech.co/python-regression/#Sum-of-Squares\">equation for Ordinary Least Square </a> to solve linear regression here. What is the cost function in this case ?"
   ]
  },
  {
   "cell_type": "markdown",
   "metadata": {},
   "source": [
    "picture here"
   ]
  },
  {
   "cell_type": "markdown",
   "metadata": {},
   "source": [
    "**Cost function** = Sum of Squares of Residuals"
   ]
  },
  {
   "cell_type": "markdown",
   "metadata": {},
   "source": [
    "# Cost function =  $\\frac{1}{2 \\times n} \\sum_{i=1}^n {error}^2$ = $\\frac{1}{2 \\times n} \\sum_{i=1}^n (y_i - \\hat{y})^2$"
   ]
  },
  {
   "cell_type": "markdown",
   "metadata": {},
   "source": [
    "The mathematical solution to minimize this cost function as derived by **OLS** is as follows. "
   ]
  },
  {
   "cell_type": "markdown",
   "metadata": {},
   "source": [
    "# $m_{slope} = \\frac{\\sum_{i=1}^n (y-\\bar{y}) \\times (x-\\bar{x})}{ \\sum_{i=1}^n (x-\\bar{x})^2} $\n",
    "\n",
    "where $\\bar{x}$ represents the average of x and $\\bar{y}$ represents the average of y "
   ]
  },
  {
   "cell_type": "markdown",
   "metadata": {},
   "source": [
    "However, when the number of independent variables increase, **OLS** is not a good solution. That is where **Gradient Descent** shines. While OLS is an analytical solution, Gradient Descent is a numerical solution. However, to understand _Gradient Descent_, we have to be conversant with the following concepts in Math. \n",
    "\n",
    "- Derivatives\n",
    "- Partial Derivatives"
   ]
  },
  {
   "cell_type": "markdown",
   "metadata": {},
   "source": [
    "### Math"
   ]
  },
  {
   "cell_type": "markdown",
   "metadata": {},
   "source": []
  },
  {
   "cell_type": "markdown",
   "metadata": {},
   "source": [
    "#### Derivatives"
   ]
  },
  {
   "cell_type": "markdown",
   "metadata": {},
   "source": [
    "A derivative is the slope of a function. Let's take a simple straight line - \n",
    "\n",
    "# $y = 2 \\times x$ "
   ]
  },
  {
   "cell_type": "markdown",
   "metadata": {},
   "source": [
    "A simple dataset for this could be\n",
    "\n",
    "- x = Number of DNA Samples\n",
    "- y = Number of DNA pairs.\n",
    "\n",
    "Let's plot a sample dataset and try to compute the slope."
   ]
  },
  {
   "cell_type": "code",
   "execution_count": 61,
   "metadata": {},
   "outputs": [
    {
     "name": "stdout",
     "output_type": "stream",
     "text": [
      "x =  [ 1  2  3  4  5  6  7  8  9 10]\n",
      "y =  [ 2  4  6  8 10 12 14 16 18 20]\n"
     ]
    },
    {
     "data": {
      "text/plain": [
       "Text(3, 3, '2')"
      ]
     },
     "execution_count": 61,
     "metadata": {},
     "output_type": "execute_result"
    },
    {
     "data": {
      "image/png": "[encoded data removed]",
      "text/plain": [
       "<Figure size 432x288 with 1 Axes>"
      ]
     },
     "metadata": {
      "needs_background": "light"
     },
     "output_type": "display_data"
    }
   ],
   "source": [
    "import matplotlib.pyplot as plt\n",
    "import numpy as np\n",
    "%matplotlib inline\n",
    "\n",
    "x = np.array([1,2,3,4,5,6,7,8,9,10])\n",
    "y = x * 2\n",
    "\n",
    "print ( \"x = \",x)\n",
    "print ( \"y = \",y)\n",
    "\n",
    "plt.plot(x,y)\n",
    "plt.plot(x[1], y[1], marker='o', markersize=10, color=\"red\")\n",
    "plt.plot(x[3], y[3], marker='o', markersize=10, color=\"red\")\n",
    "\n",
    "plt.hlines(y=y[1], xmin=x[1], xmax=x[3], color='b')\n",
    "plt.vlines(x=x[3], ymin=y[1], ymax=y[3], color='b')\n",
    "\n",
    "plt.text(4.2,5,(y[3] - y[1]))\n",
    "plt.text(3,3,(x[3] - x[1]))"
   ]
  },
  {
   "cell_type": "markdown",
   "metadata": {},
   "source": [
    "# $slope = \\frac {4}{2} = 2$"
   ]
  },
  {
   "cell_type": "markdown",
   "metadata": {},
   "source": [
    "Mathematically, the slop of the equation $y = 2x$ is defined as"
   ]
  },
  {
   "cell_type": "markdown",
   "metadata": {},
   "source": [
    "## $\\frac{dy}{dx} = \\frac {2 x} {x} = 2 $"
   ]
  },
  {
   "cell_type": "markdown",
   "metadata": {},
   "source": [
    "And that's what you see as the **m** in $y = m x$"
   ]
  },
  {
   "cell_type": "markdown",
   "metadata": {},
   "source": [
    "How about a second order equation ?\n",
    "\n",
    "# $y = x^2$"
   ]
  },
  {
   "cell_type": "markdown",
   "metadata": {},
   "source": [
    "A simple dataset for this could be\n",
    "\n",
    "- x = Reach of a product\n",
    "- y = Sales of the product.\n",
    "\n",
    "Let's plot a sample dataset and try to compute the slope."
   ]
  },
  {
   "cell_type": "code",
   "execution_count": 60,
   "metadata": {},
   "outputs": [
    {
     "name": "stdout",
     "output_type": "stream",
     "text": [
      "x =  [ 1  2  3  4  5  6  7  8  9 10]\n",
      "y =  [  1   4   9  16  25  36  49  64  81 100]\n"
     ]
    },
    {
     "data": {
      "text/plain": [
       "Text(8.58, 45, 'slope = 14')"
      ]
     },
     "execution_count": 60,
     "metadata": {},
     "output_type": "execute_result"
    },
    {
     "data": {
      "image/png": "[encoded data removed]",
      "text/plain": [
       "<Figure size 432x288 with 1 Axes>"
      ]
     },
     "metadata": {
      "needs_background": "light"
     },
     "output_type": "display_data"
    }
   ],
   "source": [
    "import matplotlib.pyplot as plt\n",
    "import numpy as np\n",
    "%matplotlib inline\n",
    "\n",
    "x = np.array([1,2,3,4,5,6,7,8,9,10])\n",
    "y = x ** 2\n",
    "\n",
    "print ( \"x = \",x)\n",
    "print ( \"y = \",y)\n",
    "\n",
    "plt.plot(x,y)\n",
    "plt.plot(x[1], y[1], marker='o', markersize=10, color=\"red\")\n",
    "plt.plot(x[3], y[3], marker='o', markersize=10, color=\"red\")\n",
    "\n",
    "plt.hlines(y=y[1], xmin=x[1], xmax=x[3], color='b')\n",
    "plt.vlines(x=x[3], ymin=y[1], ymax=y[3], color='b')\n",
    "\n",
    "plt.text(4.2,8,(y[3] - y[1]))\n",
    "plt.text(3,0.0,(x[3] - x[1]))\n",
    "\n",
    "plt.text(5,10,\"slope = 12/2 = 6\")\n",
    "\n",
    "plt.plot(x[5], y[5], marker='o', markersize=10, color=\"red\")\n",
    "plt.plot(x[7], y[7], marker='o', markersize=10, color=\"red\")\n",
    "\n",
    "plt.hlines(y=y[5], xmin=x[5], xmax=x[7], color='b')\n",
    "plt.vlines(x=x[7], ymin=y[5], ymax=y[7], color='b')\n",
    "\n",
    "plt.text(8.3,50,(y[7] - y[5]))\n",
    "plt.text(7,30,(x[7] - x[5]))\n",
    "\n",
    "plt.text(8.58,45,\"slope = 14\")"
   ]
  },
  {
   "cell_type": "markdown",
   "metadata": {},
   "source": [
    "In this case, the slope is not constant as measured by same metric as we have done previously. The slope seems to be changing with x. \n",
    "\n",
    "A correct way to define slope (or derivative) is to take an infinitesimally small increase in x and the corresponding value of y and divide them as before. Mathematically, it is defined as,"
   ]
  },
  {
   "cell_type": "markdown",
   "metadata": {},
   "source": [
    "If $f(x)$ is a function of x, \n",
    "\n",
    "# $$\\frac{d(f(x))}{dx} = Lim_{dx\\to0} \\frac{f(x + dx) - f(x)}{dx}$$"
   ]
  },
  {
   "cell_type": "markdown",
   "metadata": {},
   "source": [
    "\n",
    "For example, if x = 4, increase x by a very small amount, say $\\Delta = 0.0001$. Now, let's compute the value of y as well and plug them into the equation above\n",
    "\n",
    "- $x$ = 4\n",
    "- $dx$ = 0.0001"
   ]
  },
  {
   "cell_type": "markdown",
   "metadata": {},
   "source": [
    "## $Lim_{dx\\to0} \\frac{(4 + 0.0001)^2 - 4^2}{0.0001} = \\frac{0.0008}{0.0001} \\approx 8 = 2 \\times 4 = 2 \\times x$"
   ]
  },
  {
   "cell_type": "markdown",
   "metadata": {},
   "source": [
    "so, the derivative of $f(x) = x^2$ is $2x$ . We have not derived this mathematically - instead, we are trying to understanding with numbers, how a derivative works."
   ]
  },
  {
   "cell_type": "markdown",
   "metadata": {},
   "source": [
    "> **Derivative** represents the change in the value of a function with respect to the variable _(with which the derivative is being applied)_"
   ]
  },
  {
   "cell_type": "markdown",
   "metadata": {},
   "source": [
    "#### Partial Derivatives"
   ]
  },
  {
   "cell_type": "markdown",
   "metadata": {},
   "source": [
    "Partial derivatives are almost similar to regular derivatives - except that partial derivatives work only on a particular variable. For example, say the speed of a car is dependent on\n",
    "- engine RPM\n",
    "- slope of the road\n",
    "\n",
    "## $speed = 8 \\times x_{rpm} + 2 \\times y_{slope}$"
   ]
  },
  {
   "cell_type": "markdown",
   "metadata": {},
   "source": [
    "you can also write it as"
   ]
  },
  {
   "cell_type": "markdown",
   "metadata": {},
   "source": [
    "## $z = 8x + 2y$"
   ]
  },
  {
   "cell_type": "markdown",
   "metadata": {},
   "source": [
    "Now, how does the speed ($z$) of the car vary with a unit increase in the engine RPM ? The answer is 8 - pretty straightforward. That is represented mathematically using"
   ]
  },
  {
   "cell_type": "markdown",
   "metadata": {},
   "source": [
    "## $\\frac{\\partial z}{\\partial x} = \\frac{\\partial (8x + 2y)}{\\partial x} = 8$"
   ]
  },
  {
   "cell_type": "markdown",
   "metadata": {},
   "source": [
    "Let's take another example - The equation of a 2-d plane can be generalized as below\n",
    "\n",
    "## $f(x,y) = 3x + 4y + 2$"
   ]
  },
  {
   "cell_type": "markdown",
   "metadata": {},
   "source": [
    "You can visualize a plane like this - "
   ]
  },
  {
   "cell_type": "markdown",
   "metadata": {},
   "source": [
    "<img src=\"./pics/2d-plane.png\"/>"
   ]
  },
  {
   "cell_type": "markdown",
   "metadata": {},
   "source": [
    "As you can see, the plane intersects the z-axis at 2 ( Where the value of x & y are 0 ). Now, how far does the function vary, with a unit variation in x ? "
   ]
  },
  {
   "cell_type": "markdown",
   "metadata": {},
   "source": [
    "## $f(x,y)_{old} = 3 \\times 1 + 4y + 2$\n",
    "\n",
    "## $f(x,y)_{new} = 3 \\times (1+.0001) + 4y + 2$"
   ]
  },
  {
   "cell_type": "markdown",
   "metadata": {},
   "source": [
    "## $f(x,y)_{new} - f(x,y)_{old} = 0.0003$"
   ]
  },
  {
   "cell_type": "markdown",
   "metadata": {},
   "source": [
    "For a unit change ( say 0.0001 in x ), the function changes by 0.0003. So, the differential change is $\\frac {0.0003}{0.0001} = 3$"
   ]
  },
  {
   "cell_type": "markdown",
   "metadata": {},
   "source": [
    "Mathematically, \n",
    "\n",
    "## $\\frac{\\partial f(x,y)}{\\partial x} =\\frac{\\partial (3x + 5y + 2)}{\\partial x} = 3$"
   ]
  },
  {
   "cell_type": "markdown",
   "metadata": {},
   "source": [
    "Once again, I want you to take the intuitive meaning out of this - "
   ]
  },
  {
   "cell_type": "markdown",
   "metadata": {},
   "source": [
    "> For a unit change in x, the function changes by so much in the direction of x - That is a partial derivative. "
   ]
  },
  {
   "cell_type": "markdown",
   "metadata": {},
   "source": [
    "A plane is simple to understand. However, the interpretation would be the same even if it were a complicated curve in a 3-d space - Like a hill. "
   ]
  },
  {
   "cell_type": "markdown",
   "metadata": {},
   "source": [
    "### Gradient Descent for Linear Regression"
   ]
  },
  {
   "cell_type": "markdown",
   "metadata": {},
   "source": [
    "Now that we understand derivaties (both regular and partial), we are ready to graduate to Gradient Descent. Imagine a set of data points like so. "
   ]
  },
  {
   "cell_type": "code",
   "execution_count": 92,
   "metadata": {},
   "outputs": [
    {
     "data": {
      "text/plain": [
       "<matplotlib.collections.PathCollection at 0x14ba6210>"
      ]
     },
     "execution_count": 92,
     "metadata": {},
     "output_type": "execute_result"
    },
    {
     "data": {
      "image/png": "[encoded data removed]",
      "text/plain": [
       "<Figure size 432x288 with 1 Axes>"
      ]
     },
     "metadata": {
      "needs_background": "light"
     },
     "output_type": "display_data"
    }
   ],
   "source": [
    "import matplotlib.pyplot as plt\n",
    "import numpy as np\n",
    "%matplotlib inline\n",
    "\n",
    "x = np.array([1,3,4,5,6,7,8,10])\n",
    "y = np.array([4,3,7,7,8,10,8,11])\n",
    "\n",
    "plt.scatter(x,y)"
   ]
  },
  {
   "cell_type": "markdown",
   "metadata": {},
   "source": [
    "Say, we want to fit a straight line to this data set using <a href=\"https://ajaytech.co/python-regression\">Linear Regression</a>. How would you do it ? Very simple"
   ]
  },
  {
   "cell_type": "code",
   "execution_count": 121,
   "metadata": {},
   "outputs": [
    {
     "name": "stdout",
     "output_type": "stream",
     "text": [
      "slope =  [0.84482759]\n",
      "intercept =  2.6034482758620694\n"
     ]
    }
   ],
   "source": [
    "from sklearn.linear_model import LinearRegression \n",
    "model = LinearRegression()\n",
    "\n",
    "model.fit(x.reshape(-1,1),y) \n",
    "\n",
    "slope = model.coef_  \n",
    "intercept   = model.intercept_\n",
    "\n",
    "print ( \"slope = \", slope)\n",
    "print ( \"intercept = \", intercept)\n"
   ]
  },
  {
   "cell_type": "code",
   "execution_count": 98,
   "metadata": {},
   "outputs": [
    {
     "name": "stdout",
     "output_type": "stream",
     "text": [
      "[2.60344828] [15.27586207]\n"
     ]
    },
    {
     "data": {
      "text/plain": [
       "[<matplotlib.lines.Line2D at 0x16d9cf10>]"
      ]
     },
     "execution_count": 98,
     "metadata": {},
     "output_type": "execute_result"
    },
    {
     "data": {
      "image/png": "[encoded data removed]",
      "text/plain": [
       "<Figure size 432x288 with 1 Axes>"
      ]
     },
     "metadata": {
      "needs_background": "light"
     },
     "output_type": "display_data"
    }
   ],
   "source": [
    "point_1 = slope*0 + intercept \n",
    "point_2 = slope*15 + intercept \n",
    "print ( point_1, point_2) \n",
    "plt.scatter( x,y,alpha=0.5)\n",
    "plt.plot([0,15], [point_1,point_2],color=\"red\")"
   ]
  },
  {
   "cell_type": "code",
   "execution_count": 100,
   "metadata": {},
   "outputs": [
    {
     "data": {
      "image/png": "[encoded data removed]",
      "text/plain": [
       "<Figure size 432x288 with 1 Axes>"
      ]
     },
     "metadata": {
      "needs_background": "light"
     },
     "output_type": "display_data"
    }
   ],
   "source": [
    "plt.scatter( x,y,alpha=0.5)\n",
    "plt.plot([0,15], [point_1,point_2],color=\"red\")\n",
    "\n",
    "y_actual    = y\n",
    "y_predicted = model.predict(x.reshape(-1,1))\n",
    "\n",
    "for index,x_count in enumerate(x) :\n",
    "    if y_actual[index] > y_predicted[index] :\n",
    "        plt.vlines(x=x_count, ymin=y_predicted[index], ymax=y_actual[index], color='b')\n",
    "    if y_actual[index] <= y_predicted[index] :\n",
    "        plt.vlines(x=x_count, ymin=y_actual[index], ymax=y_predicted[index], color='b')"
   ]
  },
  {
   "cell_type": "markdown",
   "metadata": {},
   "source": [
    "The blue lines represent the residuals (or errors). We can calculate the slope (and intercept) of the fit using OLS (Ordinary Least Squares) or using Gradient Descent. We already know how <a href=\"https://ajaytech.co/python-regression/#Sum-of-Squares\">OLS works in Linear Regression</a>. We will see how Gradient Descent works. The equation for a straight line that would fit all the data points is some variation of "
   ]
  },
  {
   "cell_type": "markdown",
   "metadata": {},
   "source": [
    "## $y = m x + b$\n",
    "\n",
    "where \n",
    "- m = slope\n",
    "- b = intercept"
   ]
  },
  {
   "cell_type": "markdown",
   "metadata": {},
   "source": [
    "Either way, we are minimizing the _Sum of Squares of Errors_. We started out with the definition of this at the beginning of the chapter. "
   ]
  },
  {
   "cell_type": "markdown",
   "metadata": {},
   "source": [
    "# Cost function =  $\\frac{1}{2 \\times n} \\sum_{i=1}^n {error}^2$ = $\\frac{1}{2 \\times n} \\sum_{i=1}^n (y_i - \\hat{y})^2$\n",
    "\n",
    "where \n",
    "- $y_i$ = actual value\n",
    "- $\\hat{y}$ = predicted value\n",
    "\n",
    "Since we are using linear regression to predict the value of y, let's substitute $\\hat{y}$ with the following.\n",
    "\n",
    "# Cost function =  $\\frac{1}{2 \\times n} \\sum_{i=1}^n (y_i - (mx + b))^2$"
   ]
  },
  {
   "cell_type": "markdown",
   "metadata": {},
   "source": [
    "Just to make things simple, assume a value of intercept (b) to be fixed at 2.6 ( b = 2.6 as we have previously solved for it). Imagine that we chart the cost function with different values of slope(m)."
   ]
  },
  {
   "cell_type": "code",
   "execution_count": 130,
   "metadata": {},
   "outputs": [],
   "source": [
    "n = len(y)\n",
    "\n",
    "cost_function = []\n",
    "m = [0,0.1,0.2,0.3,0.4,0.5,0.6,0.7,0.8,0.9,1.0,1.1,1.2,1.3,1.4,1.5,1.6,1.7,1.8,1.9,2.0]\n",
    "for slope in m : \n",
    "    cost = 0\n",
    "    for i in range(n):\n",
    "        cost = cost + (1/(2*n)) * ( (y_actual[i] - slope * x[i] - 2.6) ** 2 )\n",
    "    cost_function.append(cost)\n",
    "\n",
    "    \n"
   ]
  },
  {
   "cell_type": "code",
   "execution_count": 131,
   "metadata": {},
   "outputs": [
    {
     "data": {
      "text/plain": [
       "<matplotlib.collections.PathCollection at 0x16e05070>"
      ]
     },
     "execution_count": 131,
     "metadata": {},
     "output_type": "execute_result"
    },
    {
     "data": {
      "image/png": "[encoded data removed]",
      "text/plain": [
       "<Figure size 432x288 with 1 Axes>"
      ]
     },
     "metadata": {
      "needs_background": "light"
     },
     "output_type": "display_data"
    }
   ],
   "source": [
    "plt.scatter(m,cost_function)"
   ]
  },
  {
   "cell_type": "markdown",
   "metadata": {},
   "source": [
    "Visually, we can eyeball the minimum value of the cost function to be somewhere around 0.8. This is inline with the scikit learn's LinearRegression model that we have solved above. "
   ]
  },
  {
   "cell_type": "markdown",
   "metadata": {},
   "source": [
    "But how to mathematically solve for this (without using Ordinary Least Squares) ? That is where Gradient Descent comes in. "
   ]
  },
  {
   "cell_type": "markdown",
   "metadata": {},
   "source": [
    "> Gradient Descent is a technique to find out the minimum of a function numerically."
   ]
  },
  {
   "cell_type": "markdown",
   "metadata": {},
   "source": [
    "Imagine a ball put at a random location on the cost curve shown above. "
   ]
  }
 ],
 "metadata": {
  "kernelspec": {
   "display_name": "Python 3",
   "language": "python",
   "name": "python3"
  },
  "language_info": {
   "codemirror_mode": {
    "name": "ipython",
    "version": 3
   },
   "file_extension": ".py",
   "mimetype": "text/x-python",
   "name": "python",
   "nbconvert_exporter": "python",
   "pygments_lexer": "ipython3",
   "version": "3.7.3"
  }
 },
 "nbformat": 4,
 "nbformat_minor": 2
}
