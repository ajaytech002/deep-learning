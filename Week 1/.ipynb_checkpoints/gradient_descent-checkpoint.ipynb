{
 "cells": [
  {
   "cell_type": "markdown",
   "metadata": {},
   "source": [
    "Notebook is copyright &copy; of <a href=\"https://ajaytech.co\">Ajay Tech</a>."
   ]
  },
  {
   "cell_type": "markdown",
   "metadata": {},
   "source": [
    "# Gradient Descent"
   ]
  },
  {
   "cell_type": "markdown",
   "metadata": {},
   "source": [
    "## Contents"
   ]
  },
  {
   "cell_type": "markdown",
   "metadata": {},
   "source": [
    "- #### What is Gradient Descent\n",
    "- #### Gradient Descent for Linear Regression\n",
    "- #### Math\n",
    "  - ##### Derivaties\n",
    "  - ##### Partial Derivatives\n",
    "- #### Gradient Descent for Linear Regression\n",
    "  - ##### Cost Function\n",
    "  - ##### Learning Rate\n",
    "  - ##### Optimize for both Slope and Intercept\n",
    "- #### Stochastic Gradient Descent\n",
    "- #### Mini-batch Gradient Descent\n",
    "- #### Gradient Descent for Logistic Regression\n",
    "\n"
   ]
  },
  {
   "cell_type": "markdown",
   "metadata": {},
   "source": [
    "### What is Gradient Descent"
   ]
  },
  {
   "cell_type": "markdown",
   "metadata": {},
   "source": [
    "In simple terms, Gradient Descent is an algorithm to **compute the minimum of a function**. OK - So, what is the big deal ? Well, most of the time in most machine learning algorithms, there is always a cost function that needs to be minimized. The best Machine Learning Algorithm is usually the one with the most inclusive and simple cost function. Once a cost function is defined, it is just a matter of solving for a minimum to arrive at the solution. That is why _Gradient Descent_ is extremely useful in the context of Machine learning. Let's see an example."
   ]
  },
  {
   "cell_type": "markdown",
   "metadata": {},
   "source": [
    "### Gradient Descent for Linear Regression"
   ]
  },
  {
   "cell_type": "markdown",
   "metadata": {},
   "source": [
    "Let's start with the simplestML problem - Linear Regression. In the <a href=\"https://ajaytech.co/machine-learning-in-python/\">Machine Learning in Python Tutorial</a>, we have covered <a href=\"https://ajaytech.co/python-regression/\">Regression in Python</a> in great detail. "
   ]
  },
  {
   "cell_type": "markdown",
   "metadata": {},
   "source": [
    "Since the problem is simple enough to be solved mathematically, we have used the **OLS** (Ordinary Least Squares) technique to fit a straight line to the Linear Regression problem. You can view the <a href=\"https://ajaytech.co/python-regression/#Sum-of-Squares\">equation for Ordinary Least Square </a> to solve linear regression here. What is the cost function in this case ?"
   ]
  },
  {
   "cell_type": "markdown",
   "metadata": {},
   "source": [
    "picture here"
   ]
  },
  {
   "cell_type": "markdown",
   "metadata": {},
   "source": [
    "**Cost function** = Sum of Squares of Residuals"
   ]
  },
  {
   "cell_type": "markdown",
   "metadata": {},
   "source": [
    "# Cost function =  $\\frac{1}{2 \\times n} \\sum_{i=1}^n {error}^2$ = $\\frac{1}{2 \\times n} \\sum_{i=1}^n (y_i - \\hat{y})^2$"
   ]
  },
  {
   "cell_type": "markdown",
   "metadata": {},
   "source": [
    "The mathematical solution to minimize this cost function as derived by **OLS** is as follows. "
   ]
  },
  {
   "cell_type": "markdown",
   "metadata": {},
   "source": [
    "# $m_{slope} = \\frac{\\sum_{i=1}^n (y-\\bar{y}) \\times (x-\\bar{x})}{ \\sum_{i=1}^n (x-\\bar{x})^2} $\n",
    "\n",
    "where $\\bar{x}$ represents the average of x and $\\bar{y}$ represents the average of y "
   ]
  },
  {
   "cell_type": "markdown",
   "metadata": {},
   "source": [
    "However, when the number of independent variables increase, **OLS** is not a good solution. That is where **Gradient Descent** shines. While OLS is an analytical solution, Gradient Descent is a numerical solution. However, to understand _Gradient Descent_, we have to be conversant with the following concepts in Math. \n",
    "\n",
    "- Derivatives\n",
    "- Partial Derivatives"
   ]
  },
  {
   "cell_type": "markdown",
   "metadata": {},
   "source": [
    "### Math"
   ]
  },
  {
   "cell_type": "markdown",
   "metadata": {},
   "source": []
  },
  {
   "cell_type": "markdown",
   "metadata": {},
   "source": [
    "#### Derivatives"
   ]
  },
  {
   "cell_type": "markdown",
   "metadata": {},
   "source": [
    "A derivative is the slope of a function. Let's take a simple straight line - \n",
    "\n",
    "# $y = 2 \\times x$ "
   ]
  },
  {
   "cell_type": "markdown",
   "metadata": {},
   "source": [
    "A simple dataset for this could be\n",
    "\n",
    "- x = Number of DNA Samples\n",
    "- y = Number of DNA pairs.\n",
    "\n",
    "Let's plot a sample dataset and try to compute the slope."
   ]
  },
  {
   "cell_type": "code",
   "execution_count": 61,
   "metadata": {},
   "outputs": [
    {
     "name": "stdout",
     "output_type": "stream",
     "text": [
      "x =  [ 1  2  3  4  5  6  7  8  9 10]\n",
      "y =  [ 2  4  6  8 10 12 14 16 18 20]\n"
     ]
    },
    {
     "data": {
      "text/plain": [
       "Text(3, 3, '2')"
      ]
     },
     "execution_count": 61,
     "metadata": {},
     "output_type": "execute_result"
    },
    {
     "data": {
      "image/png": "[encoded data removed]",
      "text/plain": [
       "<Figure size 432x288 with 1 Axes>"
      ]
     },
     "metadata": {
      "needs_background": "light"
     },
     "output_type": "display_data"
    }
   ],
   "source": [
    "import matplotlib.pyplot as plt\n",
    "import numpy as np\n",
    "%matplotlib inline\n",
    "\n",
    "x = np.array([1,2,3,4,5,6,7,8,9,10])\n",
    "y = x * 2\n",
    "\n",
    "print ( \"x = \",x)\n",
    "print ( \"y = \",y)\n",
    "\n",
    "plt.plot(x,y)\n",
    "plt.plot(x[1], y[1], marker='o', markersize=10, color=\"red\")\n",
    "plt.plot(x[3], y[3], marker='o', markersize=10, color=\"red\")\n",
    "\n",
    "plt.hlines(y=y[1], xmin=x[1], xmax=x[3], color='b')\n",
    "plt.vlines(x=x[3], ymin=y[1], ymax=y[3], color='b')\n",
    "\n",
    "plt.text(4.2,5,(y[3] - y[1]))\n",
    "plt.text(3,3,(x[3] - x[1]))"
   ]
  },
  {
   "cell_type": "markdown",
   "metadata": {},
   "source": [
    "# $slope = \\frac {4}{2} = 2$"
   ]
  },
  {
   "cell_type": "markdown",
   "metadata": {},
   "source": [
    "Mathematically, the slop of the equation $y = 2x$ is defined as"
   ]
  },
  {
   "cell_type": "markdown",
   "metadata": {},
   "source": [
    "## $\\frac{dy}{dx} = \\frac {2 x} {x} = 2 $"
   ]
  },
  {
   "cell_type": "markdown",
   "metadata": {},
   "source": [
    "And that's what you see as the **m** in $y = m x$"
   ]
  },
  {
   "cell_type": "markdown",
   "metadata": {},
   "source": [
    "How about a second order equation ?\n",
    "\n",
    "# $y = x^2$"
   ]
  },
  {
   "cell_type": "markdown",
   "metadata": {},
   "source": [
    "A simple dataset for this could be\n",
    "\n",
    "- x = Reach of a product\n",
    "- y = Sales of the product.\n",
    "\n",
    "Let's plot a sample dataset and try to compute the slope."
   ]
  },
  {
   "cell_type": "code",
   "execution_count": 60,
   "metadata": {},
   "outputs": [
    {
     "name": "stdout",
     "output_type": "stream",
     "text": [
      "x =  [ 1  2  3  4  5  6  7  8  9 10]\n",
      "y =  [  1   4   9  16  25  36  49  64  81 100]\n"
     ]
    },
    {
     "data": {
      "text/plain": [
       "Text(8.58, 45, 'slope = 14')"
      ]
     },
     "execution_count": 60,
     "metadata": {},
     "output_type": "execute_result"
    },
    {
     "data": {
      "image/png": "[encoded data removed]",
      "text/plain": [
       "<Figure size 432x288 with 1 Axes>"
      ]
     },
     "metadata": {
      "needs_background": "light"
     },
     "output_type": "display_data"
    }
   ],
   "source": [
    "import matplotlib.pyplot as plt\n",
    "import numpy as np\n",
    "%matplotlib inline\n",
    "\n",
    "x = np.array([1,2,3,4,5,6,7,8,9,10])\n",
    "y = x ** 2\n",
    "\n",
    "print ( \"x = \",x)\n",
    "print ( \"y = \",y)\n",
    "\n",
    "plt.plot(x,y)\n",
    "plt.plot(x[1], y[1], marker='o', markersize=10, color=\"red\")\n",
    "plt.plot(x[3], y[3], marker='o', markersize=10, color=\"red\")\n",
    "\n",
    "plt.hlines(y=y[1], xmin=x[1], xmax=x[3], color='b')\n",
    "plt.vlines(x=x[3], ymin=y[1], ymax=y[3], color='b')\n",
    "\n",
    "plt.text(4.2,8,(y[3] - y[1]))\n",
    "plt.text(3,0.0,(x[3] - x[1]))\n",
    "\n",
    "plt.text(5,10,\"slope = 12/2 = 6\")\n",
    "\n",
    "plt.plot(x[5], y[5], marker='o', markersize=10, color=\"red\")\n",
    "plt.plot(x[7], y[7], marker='o', markersize=10, color=\"red\")\n",
    "\n",
    "plt.hlines(y=y[5], xmin=x[5], xmax=x[7], color='b')\n",
    "plt.vlines(x=x[7], ymin=y[5], ymax=y[7], color='b')\n",
    "\n",
    "plt.text(8.3,50,(y[7] - y[5]))\n",
    "plt.text(7,30,(x[7] - x[5]))\n",
    "\n",
    "plt.text(8.58,45,\"slope = 14\")"
   ]
  },
  {
   "cell_type": "markdown",
   "metadata": {},
   "source": [
    "In this case, the slope is not constant as measured by same metric as we have done previously. The slope seems to be changing with x. \n",
    "\n",
    "A correct way to define slope (or derivative) is to take an infinitesimally small increase in x and the corresponding value of y and divide them as before. Mathematically, it is defined as,"
   ]
  },
  {
   "cell_type": "markdown",
   "metadata": {},
   "source": [
    "If $f(x)$ is a function of x, \n",
    "\n",
    "# $$\\frac{d(f(x))}{dx} = Lim_{dx\\to0} \\frac{f(x + dx) - f(x)}{dx}$$"
   ]
  },
  {
   "cell_type": "markdown",
   "metadata": {},
   "source": [
    "\n",
    "For example, if x = 4, increase x by a very small amount, say $\\Delta = 0.0001$. Now, let's compute the value of y as well and plug them into the equation above\n",
    "\n",
    "- $x$ = 4\n",
    "- $dx$ = 0.0001"
   ]
  },
  {
   "cell_type": "markdown",
   "metadata": {},
   "source": [
    "## $Lim_{dx\\to0} \\frac{(4 + 0.0001)^2 - 4^2}{0.0001} = \\frac{0.0008}{0.0001} \\approx 8 = 2 \\times 4 = 2 \\times x$"
   ]
  },
  {
   "cell_type": "markdown",
   "metadata": {},
   "source": [
    "so, the derivative of $f(x) = x^2$ is $2x$ . We have not derived this mathematically - instead, we are trying to understanding with numbers, how a derivative works."
   ]
  },
  {
   "cell_type": "markdown",
   "metadata": {},
   "source": [
    "> **Derivative** represents the change in the value of a function with respect to the variable _(with which the derivative is being applied)_"
   ]
  },
  {
   "cell_type": "markdown",
   "metadata": {},
   "source": [
    "#### Partial Derivatives"
   ]
  },
  {
   "cell_type": "markdown",
   "metadata": {},
   "source": [
    "Partial derivatives are almost similar to regular derivatives - except that partial derivatives work only on a particular variable. For example, say the speed of a car is dependent on\n",
    "- engine RPM\n",
    "- slope of the road\n",
    "\n",
    "## $speed = 8 \\times x_{rpm} + 2 \\times y_{slope}$"
   ]
  },
  {
   "cell_type": "markdown",
   "metadata": {},
   "source": [
    "you can also write it as"
   ]
  },
  {
   "cell_type": "markdown",
   "metadata": {},
   "source": [
    "## $z = 8x + 2y$"
   ]
  },
  {
   "cell_type": "markdown",
   "metadata": {},
   "source": [
    "Now, how does the speed ($z$) of the car vary with a unit increase in the engine RPM ? The answer is 8 - pretty straightforward. That is represented mathematically using"
   ]
  },
  {
   "cell_type": "markdown",
   "metadata": {},
   "source": [
    "## $\\frac{\\partial z}{\\partial x} = \\frac{\\partial (8x + 2y)}{\\partial x} = 8$"
   ]
  },
  {
   "cell_type": "markdown",
   "metadata": {},
   "source": [
    "Let's take another example - The equation of a 2-d plane can be generalized as below\n",
    "\n",
    "## $f(x,y) = 3x + 4y + 2$"
   ]
  },
  {
   "cell_type": "markdown",
   "metadata": {},
   "source": [
    "You can visualize a plane like this - "
   ]
  },
  {
   "cell_type": "markdown",
   "metadata": {},
   "source": [
    "<img src=\"./pics/2d-plane.png\"/>"
   ]
  },
  {
   "cell_type": "markdown",
   "metadata": {},
   "source": [
    "As you can see, the plane intersects the z-axis at 2 ( Where the value of x & y are 0 ). Now, how far does the function vary, with a unit variation in x ? "
   ]
  },
  {
   "cell_type": "markdown",
   "metadata": {},
   "source": [
    "## $f(x,y)_{old} = 3 \\times 1 + 4y + 2$\n",
    "\n",
    "## $f(x,y)_{new} = 3 \\times (1+.0001) + 4y + 2$"
   ]
  },
  {
   "cell_type": "markdown",
   "metadata": {},
   "source": [
    "## $f(x,y)_{new} - f(x,y)_{old} = 0.0003$"
   ]
  },
  {
   "cell_type": "markdown",
   "metadata": {},
   "source": [
    "For a unit change ( say 0.0001 in x ), the function changes by 0.0003. So, the differential change is $\\frac {0.0003}{0.0001} = 3$"
   ]
  },
  {
   "cell_type": "markdown",
   "metadata": {},
   "source": [
    "Mathematically, \n",
    "\n",
    "## $\\frac{\\partial f(x,y)}{\\partial x} =\\frac{\\partial (3x + 5y + 2)}{\\partial x} = 3$"
   ]
  },
  {
   "cell_type": "markdown",
   "metadata": {},
   "source": [
    "Once again, I want you to take the intuitive meaning out of this - "
   ]
  },
  {
   "cell_type": "markdown",
   "metadata": {},
   "source": [
    "> For a unit change in x, the function changes by so much in the direction of x - That is a partial derivative. "
   ]
  },
  {
   "cell_type": "markdown",
   "metadata": {},
   "source": [
    "A plane is simple to understand. However, the interpretation would be the same even if it were a complicated curve in a 3-d space - Like a hill. "
   ]
  },
  {
   "cell_type": "markdown",
   "metadata": {},
   "source": [
    "### Gradient Descent for Linear Regression"
   ]
  },
  {
   "cell_type": "markdown",
   "metadata": {},
   "source": [
    "Now that we understand derivaties (both regular and partial), we are ready to graduate to Gradient Descent. Imagine a set of data points like so. "
   ]
  },
  {
   "cell_type": "code",
   "execution_count": 86,
   "metadata": {},
   "outputs": [
    {
     "data": {
      "text/plain": [
       "<matplotlib.collections.PathCollection at 0x11817d90>"
      ]
     },
     "execution_count": 86,
     "metadata": {},
     "output_type": "execute_result"
    },
    {
     "data": {
      "image/png": "[encoded data removed]",
      "text/plain": [
       "<Figure size 432x288 with 1 Axes>"
      ]
     },
     "metadata": {
      "needs_background": "light"
     },
     "output_type": "display_data"
    }
   ],
   "source": [
    "import matplotlib.pyplot as plt\n",
    "import numpy as np\n",
    "%matplotlib inline\n",
    "\n",
    "x = np.array([1,3,4,5,6,7,8,10])\n",
    "y = np.array([4,3,7,7,8,10,8,11])\n",
    "\n",
    "plt.scatter(x,y)"
   ]
  },
  {
   "cell_type": "markdown",
   "metadata": {},
   "source": [
    "Say, we want to fit a straight line to this data set using <a href=\"https://ajaytech.co/python-regression\">Linear Regression</a>. How would you do it ? Very simple"
   ]
  },
  {
   "cell_type": "code",
   "execution_count": 121,
   "metadata": {},
   "outputs": [
    {
     "name": "stdout",
     "output_type": "stream",
     "text": [
      "slope =  [0.84482759]\n",
      "intercept =  2.6034482758620694\n"
     ]
    }
   ],
   "source": [
    "from sklearn.linear_model import LinearRegression \n",
    "model = LinearRegression()\n",
    "\n",
    "model.fit(x.reshape(-1,1),y) \n",
    "\n",
    "slope = model.coef_  \n",
    "intercept   = model.intercept_\n",
    "\n",
    "print ( \"slope = \", slope)\n",
    "print ( \"intercept = \", intercept)\n"
   ]
  },
  {
   "cell_type": "code",
   "execution_count": 98,
   "metadata": {},
   "outputs": [
    {
     "name": "stdout",
     "output_type": "stream",
     "text": [
      "[2.60344828] [15.27586207]\n"
     ]
    },
    {
     "data": {
      "text/plain": [
       "[<matplotlib.lines.Line2D at 0x16d9cf10>]"
      ]
     },
     "execution_count": 98,
     "metadata": {},
     "output_type": "execute_result"
    },
    {
     "data": {
      "image/png": "[encoded data removed]",
      "text/plain": [
       "<Figure size 432x288 with 1 Axes>"
      ]
     },
     "metadata": {
      "needs_background": "light"
     },
     "output_type": "display_data"
    }
   ],
   "source": [
    "point_1 = slope*0 + intercept \n",
    "point_2 = slope*15 + intercept \n",
    "print ( point_1, point_2) \n",
    "plt.scatter( x,y,alpha=0.5)\n",
    "plt.plot([0,15], [point_1,point_2],color=\"red\")"
   ]
  },
  {
   "cell_type": "code",
   "execution_count": 100,
   "metadata": {},
   "outputs": [
    {
     "data": {
      "image/png": "[encoded data removed]",
      "text/plain": [
       "<Figure size 432x288 with 1 Axes>"
      ]
     },
     "metadata": {
      "needs_background": "light"
     },
     "output_type": "display_data"
    }
   ],
   "source": [
    "plt.scatter( x,y,alpha=0.5)\n",
    "plt.plot([0,15], [point_1,point_2],color=\"red\")\n",
    "\n",
    "y_actual    = y\n",
    "y_predicted = model.predict(x.reshape(-1,1))\n",
    "\n",
    "for index,x_count in enumerate(x) :\n",
    "    if y_actual[index] > y_predicted[index] :\n",
    "        plt.vlines(x=x_count, ymin=y_predicted[index], ymax=y_actual[index], color='b')\n",
    "    if y_actual[index] <= y_predicted[index] :\n",
    "        plt.vlines(x=x_count, ymin=y_actual[index], ymax=y_predicted[index], color='b')"
   ]
  },
  {
   "cell_type": "markdown",
   "metadata": {},
   "source": [
    "The blue lines represent the residuals (or errors). We can calculate the slope (and intercept) of the fit using OLS (Ordinary Least Squares) or using Gradient Descent. We already know how <a href=\"https://ajaytech.co/python-regression/#Sum-of-Squares\">OLS works in Linear Regression</a>. We will see how Gradient Descent works. The equation for a straight line that would fit all the data points is some variation of "
   ]
  },
  {
   "cell_type": "markdown",
   "metadata": {},
   "source": [
    "## $y = m x + b$\n",
    "\n",
    "where \n",
    "- m = slope\n",
    "- b = intercept"
   ]
  },
  {
   "cell_type": "markdown",
   "metadata": {},
   "source": [
    "Either way, we are minimizing the _Sum of Squares of Errors_. We started out with the definition of this at the beginning of the chapter. "
   ]
  },
  {
   "cell_type": "markdown",
   "metadata": {},
   "source": [
    "# Cost function =  $\\frac{1}{2 \\times n} \\sum_{i=1}^n {error}^2$ = $\\frac{1}{2 \\times n} \\sum_{i=1}^n (y_i - \\hat{y})^2$\n",
    "\n",
    "where \n",
    "- $y_i$ = actual value\n",
    "- $\\hat{y}$ = predicted value\n",
    "\n",
    "Since we are using linear regression to predict the value of y, let's substitute $\\hat{y}$ with the following.\n",
    "\n",
    "# Cost function =  $\\frac{1}{2 \\times n} \\sum_{i=1}^n (y_i - (mx + b))^2$"
   ]
  },
  {
   "cell_type": "markdown",
   "metadata": {},
   "source": [
    "Just to make things simple, assume a value of intercept (b) to be fixed at 2.6 ( b = 2.6 as we have previously solved for it). Imagine that we chart the cost function with different values of slope(m)."
   ]
  },
  {
   "cell_type": "code",
   "execution_count": 130,
   "metadata": {},
   "outputs": [],
   "source": [
    "n = len(y)\n",
    "\n",
    "cost_function = []\n",
    "m = [0,0.1,0.2,0.3,0.4,0.5,0.6,0.7,0.8,0.9,1.0,1.1,1.2,1.3,1.4,1.5,1.6,1.7,1.8,1.9,2.0]\n",
    "for slope in m : \n",
    "    cost = 0\n",
    "    for i in range(n):\n",
    "        cost = cost + (1/(2*n)) * ( (y_actual[i] - slope * x[i] - 2.6) ** 2 )\n",
    "    cost_function.append(cost)\n",
    "\n",
    "    \n"
   ]
  },
  {
   "cell_type": "code",
   "execution_count": 131,
   "metadata": {},
   "outputs": [
    {
     "data": {
      "text/plain": [
       "<matplotlib.collections.PathCollection at 0x16e05070>"
      ]
     },
     "execution_count": 131,
     "metadata": {},
     "output_type": "execute_result"
    },
    {
     "data": {
      "image/png": "[encoded data removed]",
      "text/plain": [
       "<Figure size 432x288 with 1 Axes>"
      ]
     },
     "metadata": {
      "needs_background": "light"
     },
     "output_type": "display_data"
    }
   ],
   "source": [
    "plt.scatter(m,cost_function)"
   ]
  },
  {
   "cell_type": "markdown",
   "metadata": {},
   "source": [
    "Visually, we can eyeball the minimum value of the cost function to be somewhere around 0.8. This is inline with the scikit learn's LinearRegression model that we have solved above. "
   ]
  },
  {
   "cell_type": "markdown",
   "metadata": {},
   "source": [
    "But how to mathematically solve for this (without using Ordinary Least Squares) ? That is where Gradient Descent comes in. "
   ]
  },
  {
   "cell_type": "markdown",
   "metadata": {},
   "source": [
    "> Gradient Descent is a technique to find out the minimum of a function numerically."
   ]
  },
  {
   "cell_type": "markdown",
   "metadata": {},
   "source": [
    "Imagine a ball put at a random location on the cost curve shown above. "
   ]
  },
  {
   "cell_type": "markdown",
   "metadata": {},
   "source": [
    "<img src=\"./pics/ball-rolling-gradient-descent.png\"/>"
   ]
  },
  {
   "cell_type": "markdown",
   "metadata": {},
   "source": [
    "If you were to let the ball go, it would roll down to the bottom. Why does this happen ? Gravity moves the ball from a higher energy state to a lower energy state. You already know this. What is more interesting is the path it takes. The path should always be from a position of higher slope to a position of lower slope. "
   ]
  },
  {
   "cell_type": "markdown",
   "metadata": {},
   "source": [
    "<img src=\"./pics/gradient-descent-ball-rolling-2.png\"/>"
   ]
  },
  {
   "cell_type": "markdown",
   "metadata": {},
   "source": [
    "If you see the slope of the ball at each of the 4 positions highlighted above, it is pretty clear that the slope(dashed line) is decreasing with every move down the curve. Slope represents the derivative of the curve. In this case derivative of the cost function with respect to the slope (x-axis). "
   ]
  },
  {
   "cell_type": "markdown",
   "metadata": {},
   "source": [
    "#### How much do you move by ? "
   ]
  },
  {
   "cell_type": "markdown",
   "metadata": {},
   "source": [
    "The amount and the direction you move is controlled by how much the cost function changes. "
   ]
  },
  {
   "cell_type": "markdown",
   "metadata": {},
   "source": [
    "# Cost function = $\\frac{1}{2 \\times n} \\sum_{i=1}^n (y_i - (mx_i + b))^2$"
   ]
  },
  {
   "cell_type": "markdown",
   "metadata": {},
   "source": [
    "How much we move is based on how fast the cost function changes with the slope (or intercept). The way to learn that is by finding out the derivative of the cost function with respect to the slope (and intercept). For now, just to make things simple and to be able to view things in 2D, we are only keeping the slope as the variable (and the intercept as constant). We will see in the next section how to work on minimizing the cost function for both slope and intercept."
   ]
  },
  {
   "cell_type": "markdown",
   "metadata": {},
   "source": [
    "# $\\frac {\\partial {(Cost function)}}{\\partial{m}}$ = $2 \\times \\frac{1}{2n} \\sum_{i=1}^n (y_i - (mx_i + b)) \\times (-x_i)$\n",
    "\n",
    "or\n",
    "\n",
    "# $\\frac {\\partial {(Cost function)}}{\\partial{m}}$ = $\\frac{-1}{n} \\sum_{i=1}^n (y_i - (mx_i + b)) \\times x_i$"
   ]
  },
  {
   "cell_type": "code",
   "execution_count": 25,
   "metadata": {},
   "outputs": [
    {
     "name": "stdout",
     "output_type": "stream",
     "text": [
      "[ 1.  3.  4.  5.  6.  7.  8. 10.]\n",
      "[ 4.  3.  7.  7.  8. 10.  8. 11.]\n",
      "31.700000000000003\n",
      "-1125.3500000000001\n",
      "41106.975000000006\n",
      "-1500372.8875000002\n",
      "54763642.09375\n"
     ]
    }
   ],
   "source": [
    "x = x.astype(float)\n",
    "y = y.astype(float)\n",
    "\n",
    "print ( x )\n",
    "print ( y )\n",
    "steps = 5\n",
    "m = 0\n",
    "n = len(x)\n",
    "l_rate = 0.0001\n",
    "\n",
    "# Start Gradient Descent\n",
    "for step in range(steps) :\n",
    "    y_pred = m * x + 2.6\n",
    "\n",
    "    # Derivative of the cost function w.r.t m\n",
    "    m_der  = (-1/n) * sum( (y - y_pred) * x)\n",
    "    \n",
    "    # move m\n",
    "    m = m -  m_der\n",
    "    print ( m)"
   ]
  },
  {
   "cell_type": "markdown",
   "metadata": {},
   "source": [
    "The value of $m$ oscillates hugely. That is because, $m$ gives a general sense of direction, but doesn't tell us how far we need to go. You can't go an infinite distance in the direction of m. We need to take baby steps. "
   ]
  },
  {
   "cell_type": "markdown",
   "metadata": {},
   "source": [
    "> Take a small step, evaluate slope, take another small step in the direction of the least slope. This is the essence of Gradient Descent."
   ]
  },
  {
   "cell_type": "markdown",
   "metadata": {},
   "source": [
    "It is like a baby learning to take steps. So, there is a concept called **learning rate** that controls how far we move in the direction of the most descent. Let's rewrite the program with _learning rate_."
   ]
  },
  {
   "cell_type": "markdown",
   "metadata": {},
   "source": [
    "## $m = m - L_{rate} \\times \\frac {\\partial {(Cost function)}}{\\partial{m}}$\n",
    "\n",
    "where $L_{rate} = $ Learning rate"
   ]
  },
  {
   "cell_type": "code",
   "execution_count": 31,
   "metadata": {},
   "outputs": [
    {
     "name": "stdout",
     "output_type": "stream",
     "text": [
      "optimum slope (m) =  0.8453333333333318\n"
     ]
    }
   ],
   "source": [
    "import time\n",
    "\n",
    "l_rate = 0.001\n",
    "steps = 1000\n",
    "m = 0\n",
    "\n",
    "m_array = []\n",
    "\n",
    "# Start Gradient Descent\n",
    "for step in range(steps) :\n",
    "    y_pred = m * x + 2.6\n",
    "\n",
    "    # Derivative of the cost function w.r.t m\n",
    "    m_der  = (-1/n) * sum( (y - y_pred) * x)\n",
    "    \n",
    "    # move m\n",
    "    m = m -  l_rate * m_der\n",
    "    m_array.append(m)\n",
    "\n",
    "print ( \"optimum slope (m) = \", m)\n"
   ]
  },
  {
   "cell_type": "markdown",
   "metadata": {},
   "source": [
    "Let's plot the journey of the ball down the cost curve. "
   ]
  },
  {
   "cell_type": "code",
   "execution_count": 30,
   "metadata": {},
   "outputs": [
    {
     "data": {
      "text/plain": [
       "Text(0, 0.5, 'cost function')"
      ]
     },
     "execution_count": 30,
     "metadata": {},
     "output_type": "execute_result"
    },
    {
     "data": {
      "image/png": "[encoded data removed]",
      "text/plain": [
       "<Figure size 432x288 with 1 Axes>"
      ]
     },
     "metadata": {
      "needs_background": "light"
     },
     "output_type": "display_data"
    }
   ],
   "source": [
    "# Cost Function \n",
    "n = len(y)\n",
    "y_actual    = y\n",
    "\n",
    "cost_function = []\n",
    "m = [0,0.1,0.2,0.3,0.4,0.5,0.6,0.7,0.8,0.9,1.0,1.1,1.2,1.3,1.4,1.5,1.6,1.7,1.8,1.9,2.0]\n",
    "for slope in m : \n",
    "    cost = 0\n",
    "    for i in range(n):\n",
    "        cost = cost + (1/(2*n)) * ( (y_actual[i] - slope * x[i] - 2.6) ** 2 )\n",
    "    cost_function.append(cost)\n",
    "\n",
    "\n",
    "# Steps taken    \n",
    "n = len(y)\n",
    "\n",
    "cost_function_m = []\n",
    "m_steps = m_array\n",
    "for slope in m_steps : \n",
    "    cost = 0\n",
    "    for i in range(n):\n",
    "        cost = cost + (1/(2*n)) * ( (y_actual[i] - slope * x[i] - 2.6) ** 2 )\n",
    "    cost_function_m.append(cost)\n",
    "\n",
    "plt.scatter(m_steps,cost_function_m) # steps taken.\n",
    "plt.scatter(m,cost_function) # cost function\n",
    "plt.xlabel(\"m - slope\")\n",
    "plt.ylabel(\"cost function\")"
   ]
  },
  {
   "cell_type": "markdown",
   "metadata": {},
   "source": [
    "As you can see, even after 500 steps, the ball was not able to roll down to it's minimum. That is because of such a small learning rate - 0.0001. "
   ]
  },
  {
   "cell_type": "markdown",
   "metadata": {},
   "source": [
    "<img src=\"./pics/gradient-descent-different-learning-rates.png\"/>"
   ]
  },
  {
   "cell_type": "markdown",
   "metadata": {},
   "source": [
    "#### Learning Rate"
   ]
  },
  {
   "cell_type": "markdown",
   "metadata": {},
   "source": [
    "How fast do you go down the path ? It depends on how fast you want to converge (without overshooting). An arbitrary parameter called learning rate( &alpha; ) would determine how fast you go down the path. If you want to converge fast, can you increase the learning rate ? Probably not. Here is why. "
   ]
  },
  {
   "cell_type": "markdown",
   "metadata": {},
   "source": [
    "If you set a learning rate = 0.1, that is roughly how fast you move along the x-axis. However, if you set the learning rate to 0.7 (thinking you could move down the curve faster), here is what would happen - You essentially miss the minimum. "
   ]
  },
  {
   "cell_type": "markdown",
   "metadata": {},
   "source": [
    "<img src=\"./pics/higher-learning-rate-gradient-descent.png\"/>"
   ]
  },
  {
   "cell_type": "markdown",
   "metadata": {},
   "source": [
    "Here is a quick plot of how the ball moves with a learning rate of 0.05 within just 100 iterations. The ball is going back and forth because it is overshooting. However, it finally settles down at the minimum. "
   ]
  },
  {
   "cell_type": "markdown",
   "metadata": {},
   "source": [
    "<img src=\"./pics/gradient-descent-high-learning-rate-fluctuations.png\"/>"
   ]
  },
  {
   "cell_type": "markdown",
   "metadata": {},
   "source": [
    "#### Optimize Gradient Descent for both Slope & Intercept"
   ]
  },
  {
   "cell_type": "markdown",
   "metadata": {},
   "source": [
    "So far, we have optimized Gradient Descent for just _slope_. How about the intercept ? The moment we introduce the 2nd parameter - _intercept_ , the cost function becomes 3d. \n",
    "\n",
    "- x-axis = **slope**\n",
    "- y-axis = **intercept**\n",
    "- z-axis = **cost function**"
   ]
  },
  {
   "cell_type": "markdown",
   "metadata": {},
   "source": [
    "Matplotlib provides a rudementary 3d scatter plot. We will be using that to plot the 3d plot of the cost function."
   ]
  },
  {
   "cell_type": "code",
   "execution_count": 90,
   "metadata": {},
   "outputs": [
    {
     "data": {
      "image/png": "[encoded data removed]",
      "text/plain": [
       "<Figure size 432x288 with 1 Axes>"
      ]
     },
     "metadata": {
      "needs_background": "light"
     },
     "output_type": "display_data"
    }
   ],
   "source": [
    "import matplotlib.pyplot as plt\n",
    "import numpy as np\n",
    "\n",
    "x = np.array([1,3,4,5,6,7,8,10])\n",
    "y = np.array([4,3,7,7,8,10,8,11])\n",
    "\n",
    "# This import registers the 3D projection, but is otherwise unused.\n",
    "from mpl_toolkits.mplot3d import Axes3D  # noqa: F401 unused import\n",
    "\n",
    "import matplotlib.pyplot as plt\n",
    "import numpy as np\n",
    "%matplotlib inline\n",
    "\n",
    "slope_values     = np.arange(start=0,stop=5,step=0.05)\n",
    "intercept_values = np.arange(start=0,stop=5,step=0.05)\n",
    "# y_pred    = slope * x + intercept\n",
    "\n",
    "n = len(y)\n",
    "\n",
    "cost_function = []\n",
    "\n",
    "for index, slope in enumerate(slope_values) : \n",
    "    cost = 0\n",
    "    for i in range(n):\n",
    "        cost = cost + (1/(2*n)) * ( (y[i] - slope_values[index] * x[i] - intercept_values[index]) ** 2 )\n",
    "    cost_function.append(cost)\n",
    "\n",
    "fig = plt.figure()\n",
    "ax = fig.add_subplot(111, projection='3d')\n",
    "ax.scatter(slope_values, intercept_values, cost_function,marker='o')\n",
    "\n",
    "plt.show()"
   ]
  },
  {
   "cell_type": "markdown",
   "metadata": {},
   "source": [
    "Jupyter notebook doesn't allo 3-d rotation, but if you try this in your standard IDE (say VS Code), you would be able to get a 3-d look at the plot. "
   ]
  },
  {
   "cell_type": "markdown",
   "metadata": {},
   "source": [
    "<img src=\"./pics/gradient-descent-3d-plot.png\"/>"
   ]
  },
  {
   "cell_type": "markdown",
   "metadata": {},
   "source": [
    "Now, let's optimize the cost function for both slope and intercept. Here are the partial derivatives of the cost function for the slope and intercept."
   ]
  },
  {
   "cell_type": "markdown",
   "metadata": {},
   "source": [
    "# $\\frac {\\partial {(Cost function)}}{\\partial{m}}$ = $\\frac{-1}{n} \\sum_{i=1}^n (y_i - (mx_i + b)) \\times x_i$"
   ]
  },
  {
   "cell_type": "markdown",
   "metadata": {},
   "source": [
    "# $\\frac {\\partial {(Cost function)}}{\\partial{b}}$ = $\\frac{-1}{n} \\sum_{i=1}^n (y_i - (mx_i + b))$"
   ]
  },
  {
   "cell_type": "markdown",
   "metadata": {},
   "source": [
    "and the learning would go like this."
   ]
  },
  {
   "cell_type": "markdown",
   "metadata": {},
   "source": [
    "## $m = m - L_{rate} \\times \\frac {\\partial {(Cost function)}}{\\partial{m}}$\n",
    "## $b = b - L_{rate} \\times \\frac {\\partial {(Cost function)}}{\\partial{b}}$\n",
    "\n",
    "where \n",
    "- $L_{rate} = $ Learning rate\n",
    "- $m =$ slope\n",
    "- $b =$ intercept"
   ]
  },
  {
   "cell_type": "code",
   "execution_count": 130,
   "metadata": {},
   "outputs": [
    {
     "name": "stdout",
     "output_type": "stream",
     "text": [
      " optimim slope(m) =  0.8450107631510549\n",
      "optimum intercept (m) =  2.6022056448336817\n"
     ]
    }
   ],
   "source": [
    "x = np.array([1,3,4,5,6,7,8,10])\n",
    "y = np.array([4,3,7,7,8,10,8,11])\n",
    "\n",
    "l_rate = 0.01 # Learning rate\n",
    "steps = 4000    # number of iterations ( steps )\n",
    "\n",
    "m = 0 # initial slope\n",
    "b = 0 # initial intercept\n",
    "\n",
    "n = float(len(x))\n",
    "\n",
    "m_array = []\n",
    "b_array = []\n",
    "\n",
    "# Start Gradient Descent\n",
    "for step in range(steps) :\n",
    "    y_pred = m * x + b\n",
    "\n",
    "    # Derivative of the cost function w.r.t slope (m)\n",
    "    m_der  = (-1/n) * sum( (y - y_pred) * x)\n",
    "    # Derivative of the cost function w.r.t intercept (b)    \n",
    "    b_der  = (-1/n) * sum( y-y_pred )\n",
    "    \n",
    "    # move m\n",
    "    m = m -  l_rate * m_der\n",
    "    b = b -  l_rate * b_der\n",
    "    \n",
    "    # gather the slope and intercept in an array to plot later \n",
    "    m_array.append(m)\n",
    "    b_array.append(b)\n",
    "    \n",
    "print (\" optimim slope(m) = \", m)\n",
    "print ( \"optimum intercept (m) = \", b)"
   ]
  },
  {
   "cell_type": "markdown",
   "metadata": {},
   "source": [
    "Now that we have the "
   ]
  },
  {
   "cell_type": "code",
   "execution_count": 135,
   "metadata": {},
   "outputs": [
    {
     "data": {
      "image/png": "[encoded data removed]",
      "text/plain": [
       "<Figure size 432x288 with 1 Axes>"
      ]
     },
     "metadata": {
      "needs_background": "light"
     },
     "output_type": "display_data"
    }
   ],
   "source": [
    "slope_values     = np.arange(start=0,stop=3,step=0.05)\n",
    "intercept_values = np.arange(start=0,stop=3,step=0.05)\n",
    "\n",
    "n = len(y)\n",
    "\n",
    "cost_function = []\n",
    "\n",
    "for index, slope in enumerate(slope_values) : \n",
    "    cost = 0\n",
    "    for i in range(n):\n",
    "        cost = cost + (1/(2*n)) * ( (y[i] - slope_values[index] * x[i] - intercept_values[index]) ** 2 )\n",
    "    cost_function.append(cost)\n",
    "\n",
    "slope_values_new     = m_array\n",
    "intercept_values_new = b_array\n",
    "\n",
    "cost_function_new = []\n",
    "for index, slope in enumerate(slope_values_new) : \n",
    "    cost = 0\n",
    "    for i in range(n):\n",
    "        cost = cost + (1/(2*n)) * ( (y[i] - slope_values_new[index] * x[i] - intercept_values_new[index]) ** 2 )\n",
    "    cost_function_new.append(cost)\n",
    "\n",
    "fig = plt.figure()\n",
    "ax = fig.add_subplot(111, projection='3d')\n",
    "ax.scatter(slope_values, intercept_values, cost_function,marker='o')\n",
    "ax.scatter(slope_values_new, intercept_values_new, cost_function_new,marker='o')\n",
    "\n",
    "plt.show()"
   ]
  },
  {
   "cell_type": "markdown",
   "metadata": {},
   "source": [
    "### Stochastic Gradient Descent"
   ]
  },
  {
   "cell_type": "markdown",
   "metadata": {},
   "source": [
    "For every iteration in Gradient Descent algo, the entire dataset is used to calculate the derivative of the cost function. This is very expensive if the dataset gets larger. \n",
    "\n",
    "Imagine real world problems like image processing that has millions of pixels in a single image. Gradient Descent becomes almost impossible to compute if we don't optimize.\n",
    "\n",
    "One possible solution is to use **Stochastic Gradient Descent**. The word **Stochastic** stands for _random_. Instead of using every observation ( rows in the dataset), just use a random observation each time the derivative is being computed. In a standard Gradient Descent, the derivative of the cost function w.r.t slope is defined like this. "
   ]
  },
  {
   "cell_type": "markdown",
   "metadata": {},
   "source": [
    "# $\\frac {\\partial {(Cost function)}}{\\partial{m}}$ = $\\frac{-1}{n} \\sum_{i=1}^n (y_i - (mx_i + b)) \\times x_i$"
   ]
  },
  {
   "cell_type": "markdown",
   "metadata": {},
   "source": [
    "In stochastic gradient descent, it would be modified like this"
   ]
  },
  {
   "cell_type": "markdown",
   "metadata": {},
   "source": [
    "# $\\frac {\\partial {(Cost function)}}{\\partial{m}}$ = $\\frac{-1}{n} (y_i - (mx_i + b)) \\times x_i$\n",
    "\n",
    "where i is the index of a random data row."
   ]
  },
  {
   "cell_type": "markdown",
   "metadata": {},
   "source": [
    "In Stochastic Gradient Descent,  calculating the cost function is not done for the entire training set. Instead, you pick a random row in the dataset and calculate the cost function for that particular row only. \n",
    "\n",
    "- Surprisingly, this gives pretty good results (given the compromise)\n",
    "- This is computationally so much more efficient than doing the full dataset. \n",
    "\n",
    "Let's do this in python."
   ]
  },
  {
   "cell_type": "code",
   "execution_count": 28,
   "metadata": {},
   "outputs": [
    {
     "name": "stdout",
     "output_type": "stream",
     "text": [
      "optimum slope (m) =  0.8793576691371693\n"
     ]
    },
    {
     "data": {
      "image/png": "[encoded data removed]",
      "text/plain": [
       "<Figure size 432x288 with 1 Axes>"
      ]
     },
     "metadata": {
      "needs_background": "light"
     },
     "output_type": "display_data"
    }
   ],
   "source": [
    "import numpy as np\n",
    "import matplotlib.pyplot as plt\n",
    "%matplotlib inline\n",
    "\n",
    "l_rate = 0.001\n",
    "steps = 1000\n",
    "m = 0\n",
    "\n",
    "n = len(x)\n",
    "\n",
    "x = np.array([1,3,4,5,6,7,8,10])\n",
    "y = np.array([4,3,7,7,8,10,8,11])\n",
    "\n",
    "m_array = []\n",
    "cost_function_m = []\n",
    "\n",
    "# Start Gradient Descent\n",
    "for step in range(steps) :\n",
    "    \n",
    "    # CHANGE - At every step, get a new random number\n",
    "    random_index = np.random.randint(0,len(x))\n",
    "    \n",
    "    # CHANGE - only calculate the predicted \"y\" value for that particular data row\n",
    "    y_pred = m * x[random_index] + 2.6\n",
    "\n",
    "    # Derivative of the cost function w.r.t m\n",
    "    # CHANGE - calculate the derivative only for a particular row in the data\n",
    "    m_der  = (-1/n) * sum( (y[random_index] - y_pred) * x)\n",
    "    \n",
    "    # move m\n",
    "    m = m -  l_rate * m_der\n",
    "    m_array.append(m)\n",
    "\n",
    "m_steps = m_array\n",
    "for slope in m_steps : \n",
    "    cost = 0\n",
    "    for i in range(n):\n",
    "        cost = cost + (1/(2*n)) * ( (y[i] - slope * x[i] - 2.6) ** 2 )\n",
    "    cost_function_m.append(cost)\n",
    "\n",
    "plt.scatter(m_steps,cost_function_m) # steps taken.\n",
    "plt.xlabel(\"m - slope\")\n",
    "plt.ylabel(\"cost function\")\n",
    "\n",
    "print ( \"optimum slope (m) = \", m)"
   ]
  },
  {
   "cell_type": "markdown",
   "metadata": {},
   "source": [
    "That's pretty close to the real value (as calculated by OLS), right ? "
   ]
  },
  {
   "cell_type": "markdown",
   "metadata": {},
   "source": [
    "For just 10 observations, this is not a big deal. Imagine the performance gain if the number of rows were extremely large, as would happen in real datasets. However, there is a cost to this trade-off. The solution (optimum slope in this case) varies with each run. For example, try running the code above 4 or 5 times - each time you get a different solution. Although the difference is not a lot, still the stochastic gradient descent results in a slightly different solution with every run. How to counter this ? A compromise between standard gradient descent and stochastic gradient descent is possible - It is called Mini-batch gradient descent. "
   ]
  },
  {
   "cell_type": "markdown",
   "metadata": {},
   "source": [
    "#### Mini-batch Gradient Descent"
   ]
  },
  {
   "cell_type": "markdown",
   "metadata": {},
   "source": [
    "In practice though, a technique called mini-batch Gradient Descent is used mostly for Gradient Descent problems. It is hybird solution between standard gradient descent and stochastic gradient descent. The following picture highlights the difference between standard vs stochastic vs mini-batch gradient descent methods. "
   ]
  },
  {
   "cell_type": "markdown",
   "metadata": {},
   "source": [
    "<img src=\"./pics/gradient-descent-batch-vs-stochastic.png\"/>"
   ]
  },
  {
   "cell_type": "markdown",
   "metadata": {},
   "source": [
    "Let's program Stochastic Gradient Descent in Python."
   ]
  },
  {
   "cell_type": "code",
   "execution_count": 40,
   "metadata": {},
   "outputs": [
    {
     "name": "stdout",
     "output_type": "stream",
     "text": [
      "optimum slope (m) =  0.8472922870088795\n"
     ]
    },
    {
     "data": {
      "image/png": "[encoded data removed]",
      "text/plain": [
       "<Figure size 432x288 with 1 Axes>"
      ]
     },
     "metadata": {
      "needs_background": "light"
     },
     "output_type": "display_data"
    }
   ],
   "source": [
    "import numpy as np\n",
    "import matplotlib.pyplot as plt\n",
    "%matplotlib inline\n",
    "\n",
    "l_rate = 0.001\n",
    "steps = 1000\n",
    "m = 0\n",
    "\n",
    "n = len(x)\n",
    "\n",
    "x = np.array([1,3,4,5,6,7,8,10])\n",
    "y = np.array([4,3,7,7,8,10,8,11])\n",
    "\n",
    "m_array = []\n",
    "cost_function_m = []\n",
    "\n",
    "x_range = np.arange(len(x))\n",
    "\n",
    "# Start Gradient Descent\n",
    "for step in range(steps) :\n",
    "    \n",
    "    # CHANGE - At every step, get a set of new random numbers\n",
    "    random_index = np.random.choice(x_range, size=3, replace=False)\n",
    "    \n",
    "    # CHANGE - only calculate the predicted \"y\" value for that particular data row\n",
    "    y_pred = m * x[random_index] + 2.6\n",
    "\n",
    "    # Derivative of the cost function w.r.t m\n",
    "    # CHANGE - calculate the derivative only for a particular row in the data\n",
    "    m_der  = (-1/n) * sum( (y[random_index] - y_pred) * x[random_index])\n",
    "    \n",
    "    # move m\n",
    "    m = m -  l_rate * m_der\n",
    "    m_array.append(m)\n",
    "\n",
    "m_steps = m_array\n",
    "for slope in m_steps : \n",
    "    cost = 0\n",
    "    for i in range(n):\n",
    "        cost = cost + (1/(2*n)) * ( (y[i] - slope * x[i] - 2.6) ** 2 )\n",
    "    cost_function_m.append(cost)\n",
    "\n",
    "plt.scatter(m_steps,cost_function_m) # steps taken.\n",
    "plt.xlabel(\"m - slope\")\n",
    "plt.ylabel(\"cost function\")\n",
    "\n",
    "print ( \"optimum slope (m) = \", m)"
   ]
  },
  {
   "cell_type": "markdown",
   "metadata": {},
   "source": [
    "This time the slope value is pretty steady."
   ]
  },
  {
   "cell_type": "markdown",
   "metadata": {},
   "source": [
    "> Mini-batch gradient descent achieves a compromise between the time-consuming, but accurate Gradient Descent and a quick, but slighlty inaccurate Stochastic Gradient Descent."
   ]
  },
  {
   "cell_type": "markdown",
   "metadata": {},
   "source": [
    "Gradient Descent is a generic Cost Minimization algorithm. As long as there is a convex cost function. If there are multiple minima, Gradient Decent only arrives at a local minima. "
   ]
  },
  {
   "cell_type": "markdown",
   "metadata": {},
   "source": [
    "<img src=\"./pics/gradient-descent-local-minima.png\"/>"
   ]
  },
  {
   "cell_type": "markdown",
   "metadata": {},
   "source": [
    "### Gradient Descent for Logistic Regression"
   ]
  },
  {
   "cell_type": "markdown",
   "metadata": {},
   "source": [
    "If you have been through the <a href=\"https://ajaytech.co/machine-learning-in-python/\">machine learning tutorial</a>, you must have already seen  <a href=\"https://ajaytech.co/python-logistic-regression/#what-is-logistic-regression\"> what is logistic regression works</a> and the <a href=\"https://ajaytech.co/python-logistic-regression/#math\">math behind Logistic Regression</a>. In the tutorial, we have used Scikit Learn's LogisticRegression class to fit the data using Logistic Regression. However, we want to understand how Gradient Descent works for Logistic Regression."
   ]
  },
  {
   "cell_type": "markdown",
   "metadata": {},
   "source": [
    "In order to do that, we have to first understand 3 things\n",
    "\n",
    "- Logistic Regression equation\n",
    "- Cost function\n",
    "- Partial Derivative of the Cost function w.r.t. x"
   ]
  },
  {
   "cell_type": "markdown",
   "metadata": {},
   "source": [
    "The equation for logistic regression is"
   ]
  },
  {
   "cell_type": "markdown",
   "metadata": {},
   "source": [
    "## $\\hat{y} = \\sigma (w^T x + b)$\n",
    "\n",
    "where\n",
    "- w is a vector of numbers\n",
    "- b is a number\n",
    "- x is a vector of predictors"
   ]
  },
  {
   "cell_type": "markdown",
   "metadata": {},
   "source": [
    "We haven't seen w and b in Linear Regression that we saw previously, right ? Where have them sprung from ? Well, we are generalizing for the number of predictors a bit. For a single predictor, we can write the Logistic Regression as follows."
   ]
  },
  {
   "cell_type": "markdown",
   "metadata": {},
   "source": [
    "## $\\hat{y} = \\sigma (m x + b)$\n",
    "\n",
    "where\n",
    "- m slope\n",
    "- b intercept"
   ]
  },
  {
   "cell_type": "markdown",
   "metadata": {},
   "source": [
    "The output of the Logistic Regression is actually a sigmoid curve. "
   ]
  },
  {
   "cell_type": "markdown",
   "metadata": {},
   "source": [
    "## $\\sigma_x = \\frac{1}{1+e^{-x}}$"
   ]
  },
  {
   "cell_type": "markdown",
   "metadata": {},
   "source": [
    "You can get a visual like so."
   ]
  },
  {
   "cell_type": "code",
   "execution_count": 45,
   "metadata": {},
   "outputs": [
    {
     "data": {
      "image/png": "[encoded data removed]",
      "text/plain": [
       "<Figure size 432x288 with 1 Axes>"
      ]
     },
     "metadata": {
      "needs_background": "light"
     },
     "output_type": "display_data"
    }
   ],
   "source": [
    "from scipy.special import expit\n",
    "import numpy as np\n",
    "import matplotlib.pyplot as plt\n",
    "%matplotlib inline\n",
    "\n",
    "x = np.linspace(-10,10)\n",
    "y = expit (x)\n",
    " \n",
    "plt.plot(x,y)\n",
    "plt.grid()"
   ]
  },
  {
   "cell_type": "markdown",
   "metadata": {},
   "source": [
    "The cost function for Logistic Regression can be formulated similar to a Linear Regression \n",
    "\n",
    "- Sum of Squares of errors $\\sum{(\\hat{y} - y)^2}$\n",
    "\n",
    "However, this can result in a non-convex curve for logistic regression. So, instead of using Sum of Squares of Error, Logistic Regresion uses Cross Entropy for it's cost function. "
   ]
  },
  {
   "cell_type": "markdown",
   "metadata": {},
   "source": [
    "## $Cost_{sigmoid} = \\frac{-1}{m} \\sum_i^n ( y_i log p_i + (1-y_i)log(1-p_i) )$"
   ]
  },
  {
   "cell_type": "markdown",
   "metadata": {},
   "source": [
    "The partial derivative of the Cost function w.r.t (w,b) is"
   ]
  },
  {
   "cell_type": "markdown",
   "metadata": {},
   "source": [
    "## $ \\frac{\\partial{(Cost_{sigmoid}})}{\\partial (w,b)} = \\sum_i^n (p_i - y_i) \\times x_i$"
   ]
  },
  {
   "cell_type": "markdown",
   "metadata": {},
   "source": [
    "where\n",
    "\n",
    "- $p_i$ is the i<sup>th</sup> predicted value (for a given x)\n",
    "- $y_i$ is the actual y value (for a given x )"
   ]
  },
  {
   "cell_type": "markdown",
   "metadata": {},
   "source": [
    "we can take y<sub>i</sub> straight from the data. However, $p_i$ is calculated as a sigmoid of x. So, "
   ]
  },
  {
   "cell_type": "markdown",
   "metadata": {},
   "source": [
    "## $p_i = \\frac{1}{1 + e^{-x_i}}$"
   ]
  },
  {
   "cell_type": "markdown",
   "metadata": {},
   "source": [
    "Now that we have the 3 required things, let's write our gradient descent learning algorithm"
   ]
  },
  {
   "cell_type": "markdown",
   "metadata": {},
   "source": [
    "## $w_i = w_i - \\alpha \\frac{\\partial}{\\partial w} Cost$\n",
    "\n",
    "where $\\alpha$ is the learning rate"
   ]
  },
  {
   "cell_type": "markdown",
   "metadata": {},
   "source": [
    "For a single predictor, if you think of the slope/intercept (like the Linear Regression above), this would become"
   ]
  },
  {
   "cell_type": "markdown",
   "metadata": {},
   "source": [
    "## $m = m - \\alpha \\frac{\\partial}{\\partial w} Cost$\n",
    "\n",
    "or\n",
    "\n",
    "## $m = m - \\alpha \\frac{\\partial}{\\partial w} \\sum_i^n (p_i - y_i) \\times x_i$\n",
    "\n",
    "where i is the number of rows in the dataset\n"
   ]
  },
  {
   "cell_type": "markdown",
   "metadata": {},
   "source": [
    "Now, let's implement Logistic Regression in Python. Let's take a simple dataset."
   ]
  },
  {
   "cell_type": "code",
   "execution_count": 48,
   "metadata": {},
   "outputs": [
    {
     "data": {
      "text/plain": [
       "<matplotlib.collections.PathCollection at 0x2bfb37bda58>"
      ]
     },
     "execution_count": 48,
     "metadata": {},
     "output_type": "execute_result"
    },
    {
     "data": {
      "image/png": "[encoded data removed]",
      "text/plain": [
       "<Figure size 432x288 with 1 Axes>"
      ]
     },
     "metadata": {
      "needs_background": "light"
     },
     "output_type": "display_data"
    }
   ],
   "source": [
    "import numpy as np\n",
    "import matplotlib.pyplot as plt\n",
    "%matplotlib inline\n",
    "\n",
    "x = np.array([1,3,4,5,6,7,8,10])\n",
    "y = np.array([0,0,0,1,1,1,1,1])\n",
    "\n",
    "plt.scatter(x,y,c=y)"
   ]
  },
  {
   "cell_type": "markdown",
   "metadata": {},
   "source": [
    "Seems simple enough, right ? Let's first get a baseline using Scikit Learn's LogisticRegression model."
   ]
  },
  {
   "cell_type": "code",
   "execution_count": 53,
   "metadata": {},
   "outputs": [
    {
     "data": {
      "text/plain": [
       "LogisticRegression(C=100000.0, class_weight=None, dual=False,\n",
       "                   fit_intercept=True, intercept_scaling=1, l1_ratio=None,\n",
       "                   max_iter=100, multi_class='warn', n_jobs=None, penalty='l2',\n",
       "                   random_state=None, solver='lbfgs', tol=0.0001, verbose=0,\n",
       "                   warm_start=False)"
      ]
     },
     "execution_count": 53,
     "metadata": {},
     "output_type": "execute_result"
    }
   ],
   "source": [
    "from sklearn import linear_model\n",
    "from scipy.special import expit\n",
    " \n",
    "model_lr = linear_model.LogisticRegression(C=1e5, solver='lbfgs')\n",
    "model_lr.fit(x.reshape(-1,1), y)"
   ]
  },
  {
   "cell_type": "markdown",
   "metadata": {},
   "source": [
    "Let's fit it visually."
   ]
  },
  {
   "cell_type": "code",
   "execution_count": 55,
   "metadata": {},
   "outputs": [
    {
     "data": {
      "text/plain": [
       "<matplotlib.legend.Legend at 0x2bfb47e8128>"
      ]
     },
     "execution_count": 55,
     "metadata": {},
     "output_type": "execute_result"
    },
    {
     "data": {
      "image/png": "[encoded data removed]",
      "text/plain": [
       "<Figure size 432x288 with 1 Axes>"
      ]
     },
     "metadata": {
      "needs_background": "light"
     },
     "output_type": "display_data"
    }
   ],
   "source": [
    "x_test = np.linspace(1.0,10.0,100)\n",
    "# predict dummy y_test data based on the logistic model\n",
    "y_test = x_test * model_lr.coef_ + model_lr.intercept_\n",
    " \n",
    "sigmoid = expit(y_test)\n",
    "\n",
    "plt.scatter(x,y, c=y)\n",
    " \n",
    "# ravel to convert the 2-d array to a flat array\n",
    "plt.plot(x_test,sigmoid.ravel(),c=\"green\", label = \"logistic fit\")\n",
    "plt.yticks([0, 0.2, 0.4, 0.5, 0.6, 0.7, 1])\n",
    "plt.axhline(.5, color=\"red\", label=\"cutoff\")\n",
    "plt.legend(loc=\"lower right\")"
   ]
  },
  {
   "cell_type": "markdown",
   "metadata": {},
   "source": [
    "Let's try and fit this data using Logisic Regression based on Gradient Descent."
   ]
  },
  {
   "cell_type": "code",
   "execution_count": 56,
   "metadata": {},
   "outputs": [
    {
     "data": {
      "text/plain": [
       "array([-67.57978497])"
      ]
     },
     "execution_count": 56,
     "metadata": {},
     "output_type": "execute_result"
    }
   ],
   "source": [
    "model_lr.intercept_"
   ]
  },
  {
   "cell_type": "code",
   "execution_count": 69,
   "metadata": {},
   "outputs": [
    {
     "name": "stdout",
     "output_type": "stream",
     "text": [
      "optimum slope (m) =  15.017184591647284\n"
     ]
    }
   ],
   "source": [
    "import numpy as np\n",
    "from math import exp\n",
    "import matplotlib.pyplot as plt\n",
    "%matplotlib inline\n",
    "\n",
    "l_rate = 0.001\n",
    "steps = 1000\n",
    "m = 0\n",
    "\n",
    "n = len(x)\n",
    "\n",
    "x = np.array([1,3,4,5,6,7,8,10])\n",
    "y = np.array([0,0,0,1,1,1,1,1])\n",
    "import time\n",
    "\n",
    "l_rate = 1\n",
    "steps = 1000\n",
    "m = 0\n",
    "\n",
    "m_array = []\n",
    "\n",
    "# Start Gradient Descent\n",
    "for step in range(steps) :\n",
    "    y_pred_log = m * x + (-67.57)\n",
    "    y_pred     = 1/(1 + np.exp(-y_pred_log))\n",
    "\n",
    "    # Derivative of the cost function w.r.t m\n",
    "    m_der  = (-1/n) * sum( (y - y_pred) * x)\n",
    "    \n",
    "    # move m\n",
    "    m = m -  l_rate * m_der\n",
    "    m_array.append(m)\n",
    "\n",
    "print ( \"optimum slope (m) = \", m)"
   ]
  },
  {
   "cell_type": "markdown",
   "metadata": {},
   "source": [
    "Once again, we got pretty close to the slope as predicted by Scikit Learn's LogisticRegression model."
   ]
  },
  {
   "cell_type": "code",
   "execution_count": 70,
   "metadata": {},
   "outputs": [
    {
     "data": {
      "text/plain": [
       "array([[15.03246322]])"
      ]
     },
     "execution_count": 70,
     "metadata": {},
     "output_type": "execute_result"
    }
   ],
   "source": [
    "model_lr.coef_"
   ]
  },
  {
   "cell_type": "markdown",
   "metadata": {},
   "source": [
    "Now that we understand how Gradient Descent works, let's move on to the next important topic in Neural Networks - Back Propogation."
   ]
  },
  {
   "cell_type": "code",
   "execution_count": null,
   "metadata": {},
   "outputs": [],
   "source": []
  }
 ],
 "metadata": {
  "kernelspec": {
   "display_name": "Python 3",
   "language": "python",
   "name": "python3"
  },
  "language_info": {
   "codemirror_mode": {
    "name": "ipython",
    "version": 3
   },
   "file_extension": ".py",
   "mimetype": "text/x-python",
   "name": "python",
   "nbconvert_exporter": "python",
   "pygments_lexer": "ipython3",
   "version": "3.7.3"
  }
 },
 "nbformat": 4,
 "nbformat_minor": 4
}
