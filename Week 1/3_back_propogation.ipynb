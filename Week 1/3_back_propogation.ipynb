{
 "cells": [
  {
   "cell_type": "markdown",
   "metadata": {},
   "source": [
    "Notebook is copyright &copy; of <a href=\"https://ajaytech.co\">Ajay Tech</a>."
   ]
  },
  {
   "cell_type": "markdown",
   "metadata": {},
   "source": [
    "# Backpropagation"
   ]
  },
  {
   "cell_type": "markdown",
   "metadata": {},
   "source": [
    "##### How Neural Networks Learn"
   ]
  },
  {
   "cell_type": "markdown",
   "metadata": {},
   "source": [
    "## Contents"
   ]
  },
  {
   "cell_type": "code",
   "execution_count": 142,
   "metadata": {},
   "outputs": [
    {
     "data": {
      "text/plain": [
       "4"
      ]
     },
     "execution_count": 142,
     "metadata": {},
     "output_type": "execute_result"
    }
   ],
   "source": [
    "import numpy as np\n",
    "\n",
    "# AND gate\n",
    "x = np.array([[1,0],\n",
    "              [0,1],\n",
    "              [0,0],\n",
    "              [1,1]])\n",
    "y   = np.array([0,0,0,1])\n",
    "\n",
    "x.shape[0]"
   ]
  },
  {
   "cell_type": "code",
   "execution_count": 163,
   "metadata": {},
   "outputs": [
    {
     "name": "stdout",
     "output_type": "stream",
     "text": [
      "[ 1.51645798 -1.22653241] 1.9953217118676936\n"
     ]
    }
   ],
   "source": [
    "w = np.random.normal(size=2)\n",
    "b = np.random.normal()\n",
    "\n",
    "# learning rate\n",
    "alpha = 0.00001\n",
    "print( w, b)"
   ]
  },
  {
   "cell_type": "code",
   "execution_count": 164,
   "metadata": {},
   "outputs": [
    {
     "name": "stdout",
     "output_type": "stream",
     "text": [
      "[ 1.51635798 -1.22663241] 1.9950217118676916\n"
     ]
    }
   ],
   "source": [
    "cost = []\n",
    "# number of epochs\n",
    "for epoch in range(10) :\n",
    "    \n",
    "    # for each row in x\n",
    "    for row in range(x.shape[0]) :\n",
    "        \n",
    "        # for each row in x, predict y_hat\n",
    "        y_hat = forward_prop(x[row],w, b)\n",
    "        cost.append((y[row] - y_hat)**2)\n",
    "        # for each row calculate weights\n",
    "        w, b = backward_prop(y_hat,y[row],x[row],w, b)\n",
    "\n",
    "print ( w, b)\n",
    "# print ( cost)\n",
    "\n",
    "\n"
   ]
  },
  {
   "cell_type": "code",
   "execution_count": 147,
   "metadata": {},
   "outputs": [],
   "source": [
    "def forward_prop(x, w, b) :\n",
    "    y_hat = np.dot(x,w) + b\n",
    "    if y_hat > 0 :\n",
    "        return 1\n",
    "    else :\n",
    "        return 0"
   ]
  },
  {
   "cell_type": "code",
   "execution_count": 152,
   "metadata": {},
   "outputs": [],
   "source": [
    "def backward_prop(y_hat, y, x, w, b) :\n",
    "    w[0] = w[0] + alpha * (y - y_hat) * x[0]\n",
    "    w[1] = w[1] + alpha * (y - y_hat) * x[1]\n",
    "    b    = b    + alpha * (y - y_hat) \n",
    "    return w, b"
   ]
  },
  {
   "cell_type": "code",
   "execution_count": 159,
   "metadata": {},
   "outputs": [
    {
     "data": {
      "text/plain": [
       "0"
      ]
     },
     "execution_count": 159,
     "metadata": {},
     "output_type": "execute_result"
    }
   ],
   "source": [
    "forward_prop(x[3,:],w,b)"
   ]
  },
  {
   "cell_type": "code",
   "execution_count": 29,
   "metadata": {},
   "outputs": [
    {
     "data": {
      "text/plain": [
       "array([0, 0, 1, 1])"
      ]
     },
     "execution_count": 29,
     "metadata": {},
     "output_type": "execute_result"
    }
   ],
   "source": [
    "x_1"
   ]
  },
  {
   "cell_type": "code",
   "execution_count": null,
   "metadata": {},
   "outputs": [],
   "source": []
  }
 ],
 "metadata": {
  "kernelspec": {
   "display_name": "Python 3",
   "language": "python",
   "name": "python3"
  },
  "language_info": {
   "codemirror_mode": {
    "name": "ipython",
    "version": 3
   },
   "file_extension": ".py",
   "mimetype": "text/x-python",
   "name": "python",
   "nbconvert_exporter": "python",
   "pygments_lexer": "ipython3",
   "version": "3.7.3"
  }
 },
 "nbformat": 4,
 "nbformat_minor": 4
}
