{
 "cells": [
  {
   "cell_type": "markdown",
   "metadata": {},
   "source": [
    "Notebook is copyright &copy; of <a href=\"https://ajaytech.co\">Ajay Tech</a>"
   ]
  },
  {
   "cell_type": "markdown",
   "metadata": {},
   "source": [
    "# Hello World in Neural Networks"
   ]
  },
  {
   "cell_type": "markdown",
   "metadata": {},
   "source": [
    "Many times, the MNIST database (a database of handwritten digits) is typically the _Hello World_ application when introducing Neural Networks for the first time. However, we are going to make it even simpler by taking the iris dataset and create a keras based tensorflow Neural Network to classify species. Please refer to <a href=\"https://ajaytech.co/python-classification/#iris-dataset\"> Iris Data </a> to understand more about the dataset we will be working on. You can also refer to <a href=\"https://ajaytech.co/python-classification\"> Classification in Python </a> to understand more about a non-neural network based classification approach to classifying the species in the iris dataset. \n",
    "\n",
    "With that background, we are now ready to say _hello_ to Neural Networks using Tensorflow."
   ]
  },
  {
   "cell_type": "code",
   "execution_count": 58,
   "metadata": {},
   "outputs": [],
   "source": [
    "import tensorflow as tf\n",
    "from   tensorflow import keras\n",
    "\n",
    "import numpy as np\n",
    "import matplotlib.pyplot as plt\n",
    "%matplotlib inline"
   ]
  },
  {
   "cell_type": "markdown",
   "metadata": {},
   "source": [
    "In the program above, just imported"
   ]
  },
  {
   "cell_type": "code",
   "execution_count": 57,
   "metadata": {},
   "outputs": [
    {
     "name": "stdout",
     "output_type": "stream",
     "text": [
      "[[5.1 3.5 1.4 0.2]\n",
      " [4.9 3.  1.4 0.2]\n",
      " [4.7 3.2 1.3 0.2]\n",
      " [4.6 3.1 1.5 0.2]\n",
      " [5.  3.6 1.4 0.2]]\n",
      "[0 0 0 0 0]\n"
     ]
    }
   ],
   "source": [
    "from sklearn import datasets\n",
    "iris = datasets.load_iris()\n",
    "\n",
    "# preview the iris data\n",
    "print ( iris.data[0:5,:]  ) # data\n",
    "print ( iris.target[0:5]  ) # target species\n",
    "\n",
    "from sklearn.model_selection import train_test_split\n",
    "X_train, X_test, y_train, y_test = train_test_split(iris.data , iris.target, test_size=0.2)  "
   ]
  },
  {
   "cell_type": "code",
   "execution_count": 43,
   "metadata": {},
   "outputs": [],
   "source": [
    "model = keras.Sequential()\n",
    "model.add(keras.layers.Dense(4,input_shape=(4,),activation=\"relu\"))\n",
    "model.add(keras.layers.Dense(8,activation=\"relu\"))\n",
    "model.add(keras.layers.Dense(3,activation=\"softmax\"))"
   ]
  },
  {
   "cell_type": "code",
   "execution_count": 44,
   "metadata": {},
   "outputs": [],
   "source": [
    "model.compile(optimizer='adam',\n",
    "              loss='sparse_categorical_crossentropy',\n",
    "              metrics=['accuracy'])"
   ]
  },
  {
   "cell_type": "code",
   "execution_count": 45,
   "metadata": {},
   "outputs": [
    {
     "name": "stdout",
     "output_type": "stream",
     "text": [
      "Model: \"sequential_6\"\n",
      "_________________________________________________________________\n",
      "Layer (type)                 Output Shape              Param #   \n",
      "=================================================================\n",
      "dense_4 (Dense)              (None, 4)                 20        \n",
      "_________________________________________________________________\n",
      "dense_5 (Dense)              (None, 8)                 40        \n",
      "_________________________________________________________________\n",
      "dense_6 (Dense)              (None, 3)                 27        \n",
      "=================================================================\n",
      "Total params: 87\n",
      "Trainable params: 87\n",
      "Non-trainable params: 0\n",
      "_________________________________________________________________\n"
     ]
    }
   ],
   "source": [
    "model.summary()"
   ]
  },
  {
   "cell_type": "code",
   "execution_count": 46,
   "metadata": {
    "collapsed": true,
    "jupyter": {
     "outputs_hidden": true
    }
   },
   "outputs": [
    {
     "name": "stdout",
     "output_type": "stream",
     "text": [
      "Epoch 1/100\n",
      "120/120 [==============================] - 0s 438us/sample - loss: 1.5644 - acc: 0.3167\n",
      "Epoch 2/100\n",
      "120/120 [==============================] - 0s 33us/sample - loss: 1.5156 - acc: 0.3167\n",
      "Epoch 3/100\n",
      "120/120 [==============================] - 0s 37us/sample - loss: 1.4691 - acc: 0.3167\n",
      "Epoch 4/100\n",
      "120/120 [==============================] - 0s 33us/sample - loss: 1.4211 - acc: 0.3167\n",
      "Epoch 5/100\n",
      "120/120 [==============================] - 0s 33us/sample - loss: 1.3787 - acc: 0.3167\n",
      "Epoch 6/100\n",
      "120/120 [==============================] - 0s 45us/sample - loss: 1.3330 - acc: 0.3167\n",
      "Epoch 7/100\n",
      "120/120 [==============================] - 0s 37us/sample - loss: 1.2938 - acc: 0.3167\n",
      "Epoch 8/100\n",
      "120/120 [==============================] - 0s 33us/sample - loss: 1.2536 - acc: 0.3167\n",
      "Epoch 9/100\n",
      "120/120 [==============================] - 0s 29us/sample - loss: 1.2183 - acc: 0.3167\n",
      "Epoch 10/100\n",
      "120/120 [==============================] - 0s 54us/sample - loss: 1.1851 - acc: 0.3167\n",
      "Epoch 11/100\n",
      "120/120 [==============================] - 0s 33us/sample - loss: 1.1547 - acc: 0.3167\n",
      "Epoch 12/100\n",
      "120/120 [==============================] - 0s 37us/sample - loss: 1.1298 - acc: 0.3167\n",
      "Epoch 13/100\n",
      "120/120 [==============================] - 0s 37us/sample - loss: 1.1027 - acc: 0.3167\n",
      "Epoch 14/100\n",
      "120/120 [==============================] - 0s 33us/sample - loss: 1.0803 - acc: 0.3167\n",
      "Epoch 15/100\n",
      "120/120 [==============================] - 0s 37us/sample - loss: 1.0575 - acc: 0.3167\n",
      "Epoch 16/100\n",
      "120/120 [==============================] - 0s 37us/sample - loss: 1.0341 - acc: 0.3167\n",
      "Epoch 17/100\n",
      "120/120 [==============================] - 0s 50us/sample - loss: 1.0103 - acc: 0.3167\n",
      "Epoch 18/100\n",
      "120/120 [==============================] - 0s 29us/sample - loss: 0.9865 - acc: 0.3333\n",
      "Epoch 19/100\n",
      "120/120 [==============================] - 0s 33us/sample - loss: 0.9607 - acc: 0.3667\n",
      "Epoch 20/100\n",
      "120/120 [==============================] - 0s 45us/sample - loss: 0.9362 - acc: 0.4667\n",
      "Epoch 21/100\n",
      "120/120 [==============================] - 0s 50us/sample - loss: 0.9118 - acc: 0.5417\n",
      "Epoch 22/100\n",
      "120/120 [==============================] - 0s 33us/sample - loss: 0.8902 - acc: 0.7667\n",
      "Epoch 23/100\n",
      "120/120 [==============================] - 0s 33us/sample - loss: 0.8728 - acc: 0.9417\n",
      "Epoch 24/100\n",
      "120/120 [==============================] - 0s 41us/sample - loss: 0.8549 - acc: 0.9500\n",
      "Epoch 25/100\n",
      "120/120 [==============================] - 0s 41us/sample - loss: 0.8383 - acc: 0.9583\n",
      "Epoch 26/100\n",
      "120/120 [==============================] - 0s 33us/sample - loss: 0.8226 - acc: 0.9583\n",
      "Epoch 27/100\n",
      "120/120 [==============================] - 0s 33us/sample - loss: 0.8077 - acc: 0.9500\n",
      "Epoch 28/100\n",
      "120/120 [==============================] - 0s 37us/sample - loss: 0.7945 - acc: 0.9500\n",
      "Epoch 29/100\n",
      "120/120 [==============================] - 0s 45us/sample - loss: 0.7804 - acc: 0.9583\n",
      "Epoch 30/100\n",
      "120/120 [==============================] - 0s 33us/sample - loss: 0.7673 - acc: 0.9583\n",
      "Epoch 31/100\n",
      "120/120 [==============================] - 0s 37us/sample - loss: 0.7543 - acc: 0.9583\n",
      "Epoch 32/100\n",
      "120/120 [==============================] - 0s 29us/sample - loss: 0.7413 - acc: 0.9500\n",
      "Epoch 33/100\n",
      "120/120 [==============================] - 0s 50us/sample - loss: 0.7286 - acc: 0.9500\n",
      "Epoch 34/100\n",
      "120/120 [==============================] - 0s 37us/sample - loss: 0.7159 - acc: 0.9500\n",
      "Epoch 35/100\n",
      "120/120 [==============================] - 0s 33us/sample - loss: 0.7031 - acc: 0.9583\n",
      "Epoch 36/100\n",
      "120/120 [==============================] - 0s 41us/sample - loss: 0.6909 - acc: 0.9667\n",
      "Epoch 37/100\n",
      "120/120 [==============================] - 0s 45us/sample - loss: 0.6783 - acc: 0.9667\n",
      "Epoch 38/100\n",
      "120/120 [==============================] - 0s 45us/sample - loss: 0.6659 - acc: 0.9667\n",
      "Epoch 39/100\n",
      "120/120 [==============================] - 0s 29us/sample - loss: 0.6539 - acc: 0.9667\n",
      "Epoch 40/100\n",
      "120/120 [==============================] - 0s 37us/sample - loss: 0.6418 - acc: 0.9667\n",
      "Epoch 41/100\n",
      "120/120 [==============================] - 0s 33us/sample - loss: 0.6294 - acc: 0.9667\n",
      "Epoch 42/100\n",
      "120/120 [==============================] - 0s 50us/sample - loss: 0.6174 - acc: 0.9667\n",
      "Epoch 43/100\n",
      "120/120 [==============================] - 0s 29us/sample - loss: 0.6057 - acc: 0.9667\n",
      "Epoch 44/100\n",
      "120/120 [==============================] - 0s 33us/sample - loss: 0.5938 - acc: 0.9667\n",
      "Epoch 45/100\n",
      "120/120 [==============================] - 0s 33us/sample - loss: 0.5820 - acc: 0.9667\n",
      "Epoch 46/100\n",
      "120/120 [==============================] - 0s 41us/sample - loss: 0.5710 - acc: 0.9667\n",
      "Epoch 47/100\n",
      "120/120 [==============================] - 0s 45us/sample - loss: 0.5591 - acc: 0.9667\n",
      "Epoch 48/100\n",
      "120/120 [==============================] - 0s 33us/sample - loss: 0.5484 - acc: 0.9667\n",
      "Epoch 49/100\n",
      "120/120 [==============================] - 0s 33us/sample - loss: 0.5372 - acc: 0.9750\n",
      "Epoch 50/100\n",
      "120/120 [==============================] - 0s 37us/sample - loss: 0.5265 - acc: 0.9667\n",
      "Epoch 51/100\n",
      "120/120 [==============================] - 0s 50us/sample - loss: 0.5156 - acc: 0.9667\n",
      "Epoch 52/100\n",
      "120/120 [==============================] - 0s 37us/sample - loss: 0.5052 - acc: 0.9667\n",
      "Epoch 53/100\n",
      "120/120 [==============================] - 0s 29us/sample - loss: 0.4948 - acc: 0.9667\n",
      "Epoch 54/100\n",
      "120/120 [==============================] - 0s 29us/sample - loss: 0.4849 - acc: 0.9667\n",
      "Epoch 55/100\n",
      "120/120 [==============================] - 0s 33us/sample - loss: 0.4749 - acc: 0.9667\n",
      "Epoch 56/100\n",
      "120/120 [==============================] - 0s 33us/sample - loss: 0.4652 - acc: 0.9667\n",
      "Epoch 57/100\n",
      "120/120 [==============================] - 0s 41us/sample - loss: 0.4556 - acc: 0.9667\n",
      "Epoch 58/100\n",
      "120/120 [==============================] - 0s 45us/sample - loss: 0.4464 - acc: 0.9667\n",
      "Epoch 59/100\n",
      "120/120 [==============================] - 0s 33us/sample - loss: 0.4373 - acc: 0.9667\n",
      "Epoch 60/100\n",
      "120/120 [==============================] - 0s 33us/sample - loss: 0.4284 - acc: 0.9667\n",
      "Epoch 61/100\n",
      "120/120 [==============================] - 0s 33us/sample - loss: 0.4197 - acc: 0.9667\n",
      "Epoch 62/100\n",
      "120/120 [==============================] - 0s 29us/sample - loss: 0.4112 - acc: 0.9667\n",
      "Epoch 63/100\n",
      "120/120 [==============================] - 0s 41us/sample - loss: 0.4029 - acc: 0.9667\n",
      "Epoch 64/100\n",
      "120/120 [==============================] - 0s 37us/sample - loss: 0.3946 - acc: 0.9667\n",
      "Epoch 65/100\n",
      "120/120 [==============================] - 0s 29us/sample - loss: 0.3870 - acc: 0.9667\n",
      "Epoch 66/100\n",
      "120/120 [==============================] - 0s 37us/sample - loss: 0.3790 - acc: 0.9667\n",
      "Epoch 67/100\n",
      "120/120 [==============================] - 0s 29us/sample - loss: 0.3716 - acc: 0.9667\n",
      "Epoch 68/100\n",
      "120/120 [==============================] - 0s 29us/sample - loss: 0.3641 - acc: 0.9667\n",
      "Epoch 69/100\n",
      "120/120 [==============================] - 0s 33us/sample - loss: 0.3570 - acc: 0.9667\n",
      "Epoch 70/100\n",
      "120/120 [==============================] - 0s 54us/sample - loss: 0.3502 - acc: 0.9667\n",
      "Epoch 71/100\n",
      "120/120 [==============================] - 0s 29us/sample - loss: 0.3437 - acc: 0.9667\n",
      "Epoch 72/100\n",
      "120/120 [==============================] - 0s 41us/sample - loss: 0.3371 - acc: 0.9667\n",
      "Epoch 73/100\n",
      "120/120 [==============================] - 0s 33us/sample - loss: 0.3310 - acc: 0.9667\n",
      "Epoch 74/100\n",
      "120/120 [==============================] - 0s 33us/sample - loss: 0.3241 - acc: 0.9667\n",
      "Epoch 75/100\n",
      "120/120 [==============================] - 0s 33us/sample - loss: 0.3189 - acc: 0.9667\n",
      "Epoch 76/100\n",
      "120/120 [==============================] - 0s 50us/sample - loss: 0.3124 - acc: 0.9750\n",
      "Epoch 77/100\n",
      "120/120 [==============================] - 0s 37us/sample - loss: 0.3072 - acc: 0.9667\n",
      "Epoch 78/100\n",
      "120/120 [==============================] - 0s 29us/sample - loss: 0.3014 - acc: 0.9667\n",
      "Epoch 79/100\n",
      "120/120 [==============================] - 0s 33us/sample - loss: 0.2961 - acc: 0.9667\n",
      "Epoch 80/100\n",
      "120/120 [==============================] - 0s 29us/sample - loss: 0.2907 - acc: 0.9667\n",
      "Epoch 81/100\n",
      "120/120 [==============================] - 0s 33us/sample - loss: 0.2855 - acc: 0.9667\n",
      "Epoch 82/100\n",
      "120/120 [==============================] - 0s 45us/sample - loss: 0.2810 - acc: 0.9750\n",
      "Epoch 83/100\n",
      "120/120 [==============================] - 0s 49us/sample - loss: 0.2761 - acc: 0.9750\n",
      "Epoch 84/100\n",
      "120/120 [==============================] - 0s 37us/sample - loss: 0.2713 - acc: 0.9750\n",
      "Epoch 85/100\n",
      "120/120 [==============================] - 0s 29us/sample - loss: 0.2667 - acc: 0.9750\n",
      "Epoch 86/100\n",
      "120/120 [==============================] - 0s 33us/sample - loss: 0.2622 - acc: 0.9750\n",
      "Epoch 87/100\n",
      "120/120 [==============================] - 0s 33us/sample - loss: 0.2579 - acc: 0.9750\n",
      "Epoch 88/100\n",
      "120/120 [==============================] - 0s 29us/sample - loss: 0.2538 - acc: 0.9750\n",
      "Epoch 89/100\n",
      "120/120 [==============================] - 0s 29us/sample - loss: 0.2495 - acc: 0.9750\n",
      "Epoch 90/100\n",
      "120/120 [==============================] - 0s 37us/sample - loss: 0.2454 - acc: 0.9750\n",
      "Epoch 91/100\n",
      "120/120 [==============================] - 0s 50us/sample - loss: 0.2421 - acc: 0.9750\n",
      "Epoch 92/100\n",
      "120/120 [==============================] - 0s 41us/sample - loss: 0.2381 - acc: 0.9750\n",
      "Epoch 93/100\n",
      "120/120 [==============================] - 0s 29us/sample - loss: 0.2343 - acc: 0.9750\n",
      "Epoch 94/100\n",
      "120/120 [==============================] - 0s 29us/sample - loss: 0.2306 - acc: 0.9750\n",
      "Epoch 95/100\n",
      "120/120 [==============================] - 0s 29us/sample - loss: 0.2273 - acc: 0.9750\n",
      "Epoch 96/100\n",
      "120/120 [==============================] - 0s 29us/sample - loss: 0.2237 - acc: 0.9750\n",
      "Epoch 97/100\n",
      "120/120 [==============================] - 0s 37us/sample - loss: 0.2205 - acc: 0.9750\n",
      "Epoch 98/100\n",
      "120/120 [==============================] - 0s 58us/sample - loss: 0.2171 - acc: 0.9750\n",
      "Epoch 99/100\n",
      "120/120 [==============================] - 0s 33us/sample - loss: 0.2145 - acc: 0.9750\n",
      "Epoch 100/100\n",
      "120/120 [==============================] - 0s 41us/sample - loss: 0.2109 - acc: 0.9750\n"
     ]
    },
    {
     "data": {
      "text/plain": [
       "<tensorflow.python.keras.callbacks.History at 0x251af8d1048>"
      ]
     },
     "execution_count": 46,
     "metadata": {},
     "output_type": "execute_result"
    }
   ],
   "source": [
    "model.fit(X_train, y_train, epochs=100)"
   ]
  },
  {
   "cell_type": "code",
   "execution_count": 47,
   "metadata": {},
   "outputs": [
    {
     "data": {
      "text/plain": [
       "array([[0.01887741, 0.16060711, 0.82051545],\n",
       "       [0.03691119, 0.31185886, 0.65122986],\n",
       "       [0.01537503, 0.08960525, 0.8950197 ],\n",
       "       [0.03616808, 0.30466992, 0.65916204],\n",
       "       [0.02333074, 0.10949902, 0.8671703 ],\n",
       "       [0.00953077, 0.06568575, 0.92478347],\n",
       "       [0.9252594 , 0.05767358, 0.017067  ],\n",
       "       [0.05844541, 0.7994809 , 0.14207375],\n",
       "       [0.02723573, 0.37582222, 0.59694207],\n",
       "       [0.11481637, 0.8107641 , 0.0744195 ],\n",
       "       [0.08392603, 0.832382  , 0.08369191],\n",
       "       [0.91986555, 0.06051413, 0.01962033],\n",
       "       [0.06326912, 0.853422  , 0.08330891],\n",
       "       [0.0138218 , 0.13229516, 0.8538831 ],\n",
       "       [0.03680999, 0.30961502, 0.653575  ],\n",
       "       [0.07495929, 0.701615  , 0.22342573],\n",
       "       [0.9426259 , 0.0435243 , 0.01384984],\n",
       "       [0.09072192, 0.82027286, 0.08900525],\n",
       "       [0.926535  , 0.05544471, 0.01802025],\n",
       "       [0.06303558, 0.87349606, 0.06346845],\n",
       "       [0.06839587, 0.6597252 , 0.27187896],\n",
       "       [0.04008813, 0.35801262, 0.60189927],\n",
       "       [0.9325694 , 0.05110525, 0.01632539],\n",
       "       [0.0283497 , 0.2776746 , 0.69397575],\n",
       "       [0.91972023, 0.06181844, 0.0184614 ],\n",
       "       [0.07067153, 0.8600064 , 0.06932209],\n",
       "       [0.03587416, 0.31444484, 0.649681  ],\n",
       "       [0.04288746, 0.3432939 , 0.61381865],\n",
       "       [0.0176382 , 0.170464  , 0.8118978 ],\n",
       "       [0.9130595 , 0.06606764, 0.02087287]], dtype=float32)"
      ]
     },
     "execution_count": 47,
     "metadata": {},
     "output_type": "execute_result"
    }
   ],
   "source": [
    "y_pred = model.predict(X_test)\n",
    "y_pred"
   ]
  },
  {
   "cell_type": "code",
   "execution_count": 53,
   "metadata": {},
   "outputs": [
    {
     "data": {
      "text/plain": [
       "array([2, 2, 2, 2, 2, 2, 0, 1, 2, 1, 1, 0, 1, 2, 2, 1, 0, 1, 0, 1, 1, 2,\n",
       "       0, 2, 0, 1, 2, 2, 2, 0], dtype=int64)"
      ]
     },
     "execution_count": 53,
     "metadata": {},
     "output_type": "execute_result"
    }
   ],
   "source": [
    "y_pred_class = np.argmax(y_pred,axis=1)\n",
    "y_pred_class"
   ]
  },
  {
   "cell_type": "code",
   "execution_count": 56,
   "metadata": {},
   "outputs": [
    {
     "data": {
      "text/plain": [
       "0.9333333333333333"
      ]
     },
     "execution_count": 56,
     "metadata": {},
     "output_type": "execute_result"
    }
   ],
   "source": [
    "from sklearn.metrics import accuracy_score\n",
    " \n",
    "accuracy_score(y_test,y_pred_class)"
   ]
  },
  {
   "cell_type": "code",
   "execution_count": 54,
   "metadata": {},
   "outputs": [
    {
     "name": "stdout",
     "output_type": "stream",
     "text": [
      "[[ 7  0  0]\n",
      " [ 0  9  2]\n",
      " [ 0  0 12]]\n"
     ]
    }
   ],
   "source": [
    "from sklearn.metrics import confusion_matrix\n",
    " \n",
    "cm = confusion_matrix(y_test, y_pred_class)\n",
    "print ( cm )"
   ]
  },
  {
   "cell_type": "code",
   "execution_count": 73,
   "metadata": {},
   "outputs": [],
   "source": [
    "import tensorflow as tf\n",
    "from tensorflow import keras\n",
    "\n",
    "import numpy as np\n",
    "import matplotlib.pyplot as plt\n",
    "%matplotlib inline"
   ]
  },
  {
   "cell_type": "code",
   "execution_count": 85,
   "metadata": {},
   "outputs": [],
   "source": [
    "mnist = keras.datasets.mnist\n",
    "(train_images, train_labels), (test_images, test_labels) = mnist.load_data()"
   ]
  },
  {
   "cell_type": "code",
   "execution_count": 68,
   "metadata": {},
   "outputs": [
    {
     "data": {
      "text/plain": [
       "array([0, 4, 1, 9, 2, 1, 3, 1, 4], dtype=uint8)"
      ]
     },
     "execution_count": 68,
     "metadata": {},
     "output_type": "execute_result"
    }
   ],
   "source": [
    "train_labels[1:10]"
   ]
  },
  {
   "cell_type": "code",
   "execution_count": 69,
   "metadata": {},
   "outputs": [],
   "source": [
    "train_images = train_images / 255.0\n",
    "\n",
    "test_images = test_images / 255.0"
   ]
  },
  {
   "cell_type": "code",
   "execution_count": 75,
   "metadata": {},
   "outputs": [
    {
     "data": {
      "text/plain": [
       "<matplotlib.image.AxesImage at 0x1ba498a0a90>"
      ]
     },
     "execution_count": 75,
     "metadata": {},
     "output_type": "execute_result"
    },
    {
     "data": {
      "image/png": "[encoded data removed]",
      "text/plain": [
       "<Figure size 432x288 with 1 Axes>"
      ]
     },
     "metadata": {
      "needs_background": "light"
     },
     "output_type": "display_data"
    }
   ],
   "source": [
    "plt.figure()\n",
    "plt.imshow(train_images[2])"
   ]
  },
  {
   "cell_type": "code",
   "execution_count": 46,
   "metadata": {},
   "outputs": [],
   "source": [
    "class_names = ['T-shirt/top', 'Trouser', 'Pullover', 'Dress', 'Coat',\n",
    "               'Sandal', 'Shirt', 'Sneaker', 'Bag', 'Ankle boot']"
   ]
  },
  {
   "cell_type": "code",
   "execution_count": 84,
   "metadata": {},
   "outputs": [
    {
     "data": {
      "image/png": "[encoded data removed]",
      "text/plain": [
       "<Figure size 720x720 with 25 Axes>"
      ]
     },
     "metadata": {},
     "output_type": "display_data"
    }
   ],
   "source": [
    "plt.figure(figsize=(10,10))\n",
    "for i in range(25):\n",
    "    plt.subplot(5,5,i+1)\n",
    "    plt.xticks([])\n",
    "    plt.yticks([])\n",
    "    plt.imshow(train_images[i], cmap=plt.cm.binary)"
   ]
  },
  {
   "cell_type": "code",
   "execution_count": 49,
   "metadata": {},
   "outputs": [],
   "source": [
    "model = keras.Sequential([\n",
    "    keras.layers.Flatten(input_shape=(28, 28)),\n",
    "    keras.layers.Dense(128, activation=tf.nn.relu),\n",
    "    keras.layers.Dense(10, activation=tf.nn.softmax)\n",
    "])"
   ]
  },
  {
   "cell_type": "code",
   "execution_count": 50,
   "metadata": {},
   "outputs": [],
   "source": [
    "model.compile(optimizer='adam',\n",
    "              loss='sparse_categorical_crossentropy',\n",
    "              metrics=['accuracy'])"
   ]
  },
  {
   "cell_type": "code",
   "execution_count": 51,
   "metadata": {},
   "outputs": [
    {
     "name": "stdout",
     "output_type": "stream",
     "text": [
      "Epoch 1/5\n",
      "60000/60000 [==============================] - 2s 35us/sample - loss: 0.2617 - acc: 0.9254\n",
      "Epoch 2/5\n",
      "60000/60000 [==============================] - 2s 34us/sample - loss: 0.1166 - acc: 0.9653\n",
      "Epoch 3/5\n",
      "60000/60000 [==============================] - 2s 34us/sample - loss: 0.0806 - acc: 0.9759\n",
      "Epoch 4/5\n",
      "60000/60000 [==============================] - 2s 33us/sample - loss: 0.0589 - acc: 0.9821\n",
      "Epoch 5/5\n",
      "60000/60000 [==============================] - 2s 33us/sample - loss: 0.0457 - acc: 0.9861\n"
     ]
    },
    {
     "data": {
      "text/plain": [
       "<tensorflow.python.keras.callbacks.History at 0x1ba495ee630>"
      ]
     },
     "execution_count": 51,
     "metadata": {},
     "output_type": "execute_result"
    }
   ],
   "source": [
    "model.fit(train_images, train_labels, epochs=5)"
   ]
  },
  {
   "cell_type": "code",
   "execution_count": 52,
   "metadata": {},
   "outputs": [
    {
     "name": "stdout",
     "output_type": "stream",
     "text": [
      "10000/10000 [==============================] - 0s 23us/sample - loss: 0.0775 - acc: 0.9755\n",
      "Test accuracy: 0.9755\n"
     ]
    }
   ],
   "source": [
    "test_loss, test_acc = model.evaluate(test_images, test_labels)\n",
    "\n",
    "print('Test accuracy:', test_acc)"
   ]
  },
  {
   "cell_type": "code",
   "execution_count": 53,
   "metadata": {},
   "outputs": [],
   "source": [
    "predictions = model.predict(test_images)"
   ]
  },
  {
   "cell_type": "code",
   "execution_count": 54,
   "metadata": {},
   "outputs": [
    {
     "data": {
      "text/plain": [
       "array([1.3607456e-07, 8.0211411e-09, 1.5221176e-06, 1.2480983e-04,\n",
       "       5.2185273e-10, 9.2426241e-08, 6.1016958e-13, 9.9986899e-01,\n",
       "       7.8800873e-08, 4.3292384e-06], dtype=float32)"
      ]
     },
     "execution_count": 54,
     "metadata": {},
     "output_type": "execute_result"
    }
   ],
   "source": [
    "predictions[0]"
   ]
  },
  {
   "cell_type": "code",
   "execution_count": 55,
   "metadata": {},
   "outputs": [
    {
     "data": {
      "text/plain": [
       "7"
      ]
     },
     "execution_count": 55,
     "metadata": {},
     "output_type": "execute_result"
    }
   ],
   "source": [
    "np.argmax(predictions[0])"
   ]
  },
  {
   "cell_type": "code",
   "execution_count": 56,
   "metadata": {},
   "outputs": [
    {
     "data": {
      "text/plain": [
       "7"
      ]
     },
     "execution_count": 56,
     "metadata": {},
     "output_type": "execute_result"
    }
   ],
   "source": [
    "test_labels[0]"
   ]
  },
  {
   "cell_type": "code",
   "execution_count": 57,
   "metadata": {},
   "outputs": [],
   "source": [
    "def plot_image(i, predictions_array, true_label, img):\n",
    "  predictions_array, true_label, img = predictions_array[i], true_label[i], img[i]\n",
    "  plt.grid(False)\n",
    "  plt.xticks([])\n",
    "  plt.yticks([])\n",
    "  \n",
    "  plt.imshow(img, cmap=plt.cm.binary)\n",
    "  \n",
    "  predicted_label = np.argmax(predictions_array)\n",
    "  if predicted_label == true_label:\n",
    "    color = 'blue'\n",
    "  else:\n",
    "    color = 'red'\n",
    "  \n",
    "  plt.xlabel(\"{} {:2.0f}% ({})\".format(class_names[predicted_label],\n",
    "                                100*np.max(predictions_array),\n",
    "                                class_names[true_label]),\n",
    "                                color=color)\n",
    "\n",
    "def plot_value_array(i, predictions_array, true_label):\n",
    "  predictions_array, true_label = predictions_array[i], true_label[i]\n",
    "  plt.grid(False)\n",
    "  plt.xticks([])\n",
    "  plt.yticks([])\n",
    "  thisplot = plt.bar(range(10), predictions_array, color=\"#777777\")\n",
    "  plt.ylim([0, 1])\n",
    "  predicted_label = np.argmax(predictions_array)\n",
    "  \n",
    "  thisplot[predicted_label].set_color('red')\n",
    "  thisplot[true_label].set_color('blue')"
   ]
  },
  {
   "cell_type": "code",
   "execution_count": 58,
   "metadata": {},
   "outputs": [
    {
     "data": {
      "image/png": "[encoded data removed]",
      "text/plain": [
       "<Figure size 432x216 with 2 Axes>"
      ]
     },
     "metadata": {},
     "output_type": "display_data"
    }
   ],
   "source": [
    "i = 0\n",
    "plt.figure(figsize=(6,3))\n",
    "plt.subplot(1,2,1)\n",
    "plot_image(i, predictions, test_labels, test_images)\n",
    "plt.subplot(1,2,2)\n",
    "plot_value_array(i, predictions,  test_labels)\n",
    "plt.show()"
   ]
  },
  {
   "cell_type": "code",
   "execution_count": 59,
   "metadata": {},
   "outputs": [
    {
     "data": {
      "image/png": "[encoded data removed]",
      "text/plain": [
       "<Figure size 432x216 with 2 Axes>"
      ]
     },
     "metadata": {},
     "output_type": "display_data"
    }
   ],
   "source": [
    "i = 12\n",
    "plt.figure(figsize=(6,3))\n",
    "plt.subplot(1,2,1)\n",
    "plot_image(i, predictions, test_labels, test_images)\n",
    "plt.subplot(1,2,2)\n",
    "plot_value_array(i, predictions,  test_labels)\n",
    "plt.show()"
   ]
  },
  {
   "cell_type": "code",
   "execution_count": 61,
   "metadata": {},
   "outputs": [
    {
     "data": {
      "image/png": "[encoded data removed]",
      "text/plain": [
       "<Figure size 864x720 with 30 Axes>"
      ]
     },
     "metadata": {},
     "output_type": "display_data"
    }
   ],
   "source": [
    "# Plot the first X test images, their predicted label, and the true label\n",
    "# Color correct predictions in blue, incorrect predictions in red\n",
    "num_rows = 5\n",
    "num_cols = 3\n",
    "num_images = num_rows*num_cols\n",
    "plt.figure(figsize=(2*2*num_cols, 2*num_rows))\n",
    "for i in range(num_images):\n",
    "  plt.subplot(num_rows, 2*num_cols, 2*i+1)\n",
    "  plot_image(i, predictions, test_labels, test_images)\n",
    "  plt.subplot(num_rows, 2*num_cols, 2*i+2)\n",
    "  plot_value_array(i, predictions, test_labels)\n",
    "plt.show()"
   ]
  },
  {
   "cell_type": "code",
   "execution_count": 62,
   "metadata": {},
   "outputs": [
    {
     "name": "stdout",
     "output_type": "stream",
     "text": [
      "(28, 28)\n"
     ]
    }
   ],
   "source": [
    "# Grab an image from the test dataset\n",
    "img = test_images[0]\n",
    "\n",
    "print(img.shape)"
   ]
  },
  {
   "cell_type": "code",
   "execution_count": 63,
   "metadata": {},
   "outputs": [
    {
     "name": "stdout",
     "output_type": "stream",
     "text": [
      "(1, 28, 28)\n"
     ]
    }
   ],
   "source": [
    "# Add the image to a batch where it's the only member.\n",
    "img = (np.expand_dims(img,0))\n",
    "\n",
    "print(img.shape)"
   ]
  },
  {
   "cell_type": "code",
   "execution_count": 64,
   "metadata": {},
   "outputs": [
    {
     "name": "stdout",
     "output_type": "stream",
     "text": [
      "[[1.3607443e-07 8.0211411e-09 1.5221176e-06 1.2480983e-04 5.2185273e-10\n",
      "  9.2426419e-08 6.1016958e-13 9.9986899e-01 7.8800724e-08 4.3292384e-06]]\n"
     ]
    }
   ],
   "source": [
    "predictions_single = model.predict(img)\n",
    "\n",
    "print(predictions_single)"
   ]
  },
  {
   "cell_type": "code",
   "execution_count": 65,
   "metadata": {},
   "outputs": [
    {
     "data": {
      "image/png": "[encoded data removed]",
      "text/plain": [
       "<Figure size 432x288 with 1 Axes>"
      ]
     },
     "metadata": {
      "needs_background": "light"
     },
     "output_type": "display_data"
    }
   ],
   "source": [
    "plot_value_array(0, predictions_single, test_labels)\n",
    "plt.xticks(range(10), class_names, rotation=45)\n",
    "plt.show()"
   ]
  },
  {
   "cell_type": "code",
   "execution_count": 66,
   "metadata": {},
   "outputs": [
    {
     "name": "stdout",
     "output_type": "stream",
     "text": [
      "7\n"
     ]
    }
   ],
   "source": [
    "prediction_result = np.argmax(predictions_single[0])\n",
    "print(prediction_result)"
   ]
  },
  {
   "cell_type": "code",
   "execution_count": null,
   "metadata": {},
   "outputs": [],
   "source": []
  }
 ],
 "metadata": {
  "kernelspec": {
   "display_name": "Python 3",
   "language": "python",
   "name": "python3"
  },
  "language_info": {
   "codemirror_mode": {
    "name": "ipython",
    "version": 3
   },
   "file_extension": ".py",
   "mimetype": "text/x-python",
   "name": "python",
   "nbconvert_exporter": "python",
   "pygments_lexer": "ipython3",
   "version": "3.7.3"
  }
 },
 "nbformat": 4,
 "nbformat_minor": 4
}
